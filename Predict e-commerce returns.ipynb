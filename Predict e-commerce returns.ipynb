{
 "cells": [
  {
   "cell_type": "markdown",
   "metadata": {},
   "source": [
    "# Predict e-commerce returns\n",
    "*Christos Kestritsalis*"
   ]
  },
  {
   "cell_type": "markdown",
   "metadata": {},
   "source": [
    "## Outline"
   ]
  },
  {
   "cell_type": "markdown",
   "metadata": {},
   "source": [
    "1. Introduction\n",
    "2. EDA\n",
    "    - 2.1. Import relevant libraries and known dataset\n",
    "    - 2.2 First glance at known dataset\n",
    "    - 2.3 Closer look on data types\n",
    "    - 2.4 Summary statistics\n",
    "    - 2.5 First visual exploration\n",
    "3. Data Prep\n",
    "    - 3.1 Change data types\n",
    "    - 3.2 Handle empty/nulls\n",
    "    - 3.3 Handle outliers\n",
    "    - 3.4 Feature recategorization\n",
    "    - 3.5 Feature creation\n",
    "    - 3.6 Feature normalization\n",
    "    - 3.7 Category encoding (One-hot encoding)\n",
    "4. Model tuning and selection\n",
    "    - 4.1 Define list of features\n",
    "    - 4.2 Define dependent and independent features\n",
    "    - 4.3 Split sample\n",
    "    - 4.4 Logistic Regression\n",
    "    - 4.5 Decision Tree\n",
    "    - 4.6 Random Forest\n",
    "    - 4.7 Support Vector Machine\n",
    "5. Model evaluation\n",
    "    - 5.1 ROC Curve - AUC\n",
    "    - 5.2 Create predictions for unknown dataset\n",
    "    - 5.3 Create output file\n",
    "\n",
    "6. Conclusion"
   ]
  },
  {
   "cell_type": "markdown",
   "metadata": {},
   "source": [
    "---"
   ]
  },
  {
   "cell_type": "markdown",
   "metadata": {},
   "source": [
    "## 1. Introduction"
   ]
  },
  {
   "cell_type": "markdown",
   "metadata": {},
   "source": [
    "Returns has become an important factor of e-commerce shops and can result in significant costs in case customers return a lot of orders. Purpose of the assignment is to find a model that minimizes the expected costs by preventing orders that are likely to result in a return.\n",
    "\n",
    "In order to successfully **minimize the expected costs** from the returns,  different classification models are to be tested. In the end, the most effective one will be selected and used to create prediction on unknown dataset.\n",
    "\n",
    "- First, given data set is explored to get a first sense of what the characteristics of the data are.\n",
    "\n",
    "- Then data is to be cleaned and transformed ,in order to remove empty or null values, normalize outliers and bringthe data in a form that will help apply a classification model later (Data Prep)\n",
    "\n",
    "- Next, different models are tested for predictive performance: logistic regression, decision trees, random forest & support vector machine (Model tuning and selection)\n",
    "\n",
    "- Next, selected model is evaluated using ROC Curve & AUC criteria (Model evaluation)\n",
    "\n",
    "- The conclusions of the analysis are discussed in the closing section (Conclusion)"
   ]
  },
  {
   "cell_type": "markdown",
   "metadata": {},
   "source": [
    "---"
   ]
  },
  {
   "cell_type": "markdown",
   "metadata": {},
   "source": [
    "## 2. Exploratory Data Analysis"
   ]
  },
  {
   "cell_type": "markdown",
   "metadata": {},
   "source": [
    "### 2.1 Import relevant libraries and known dataset"
   ]
  },
  {
   "cell_type": "code",
   "execution_count": 6,
   "metadata": {},
   "outputs": [],
   "source": [
    "import numpy as np\n",
    "import pandas as pd\n",
    "import matplotlib.pyplot as plt\n",
    "import seaborn as sns\n",
    "from datetime import datetime\n",
    "import warnings\n",
    "warnings.simplefilter(action='ignore', category=FutureWarning)\n",
    "\n",
    "%matplotlib inline\n",
    "plt.rcParams[\"figure.figsize\"] = (15,6)\n",
    "\n",
    "df_known = pd.read_csv(\"BADS_WS2021_known.csv\", index_col = 'order_item_id')"
   ]
  },
  {
   "cell_type": "markdown",
   "metadata": {},
   "source": [
    "### 2.2. First glance at known dataset"
   ]
  },
  {
   "cell_type": "code",
   "execution_count": 2,
   "metadata": {
    "scrolled": true
   },
   "outputs": [
    {
     "data": {
      "text/html": [
       "<div>\n",
       "<style scoped>\n",
       "    .dataframe tbody tr th:only-of-type {\n",
       "        vertical-align: middle;\n",
       "    }\n",
       "\n",
       "    .dataframe tbody tr th {\n",
       "        vertical-align: top;\n",
       "    }\n",
       "\n",
       "    .dataframe thead th {\n",
       "        text-align: right;\n",
       "    }\n",
       "</style>\n",
       "<table border=\"1\" class=\"dataframe\">\n",
       "  <thead>\n",
       "    <tr style=\"text-align: right;\">\n",
       "      <th></th>\n",
       "      <th>order_date</th>\n",
       "      <th>delivery_date</th>\n",
       "      <th>item_id</th>\n",
       "      <th>item_size</th>\n",
       "      <th>item_color</th>\n",
       "      <th>brand_id</th>\n",
       "      <th>item_price</th>\n",
       "      <th>user_id</th>\n",
       "      <th>user_title</th>\n",
       "      <th>user_dob</th>\n",
       "      <th>user_state</th>\n",
       "      <th>user_reg_date</th>\n",
       "      <th>return</th>\n",
       "    </tr>\n",
       "    <tr>\n",
       "      <th>order_item_id</th>\n",
       "      <th></th>\n",
       "      <th></th>\n",
       "      <th></th>\n",
       "      <th></th>\n",
       "      <th></th>\n",
       "      <th></th>\n",
       "      <th></th>\n",
       "      <th></th>\n",
       "      <th></th>\n",
       "      <th></th>\n",
       "      <th></th>\n",
       "      <th></th>\n",
       "      <th></th>\n",
       "    </tr>\n",
       "  </thead>\n",
       "  <tbody>\n",
       "    <tr>\n",
       "      <td>1</td>\n",
       "      <td>22-06-16</td>\n",
       "      <td>27-06-16</td>\n",
       "      <td>643</td>\n",
       "      <td>38</td>\n",
       "      <td>navy</td>\n",
       "      <td>30</td>\n",
       "      <td>49.90</td>\n",
       "      <td>30822</td>\n",
       "      <td>Mrs</td>\n",
       "      <td>17-04-69</td>\n",
       "      <td>Saxony</td>\n",
       "      <td>23-06-16</td>\n",
       "      <td>0</td>\n",
       "    </tr>\n",
       "    <tr>\n",
       "      <td>2</td>\n",
       "      <td>22-06-16</td>\n",
       "      <td>NaN</td>\n",
       "      <td>337</td>\n",
       "      <td>152</td>\n",
       "      <td>grey</td>\n",
       "      <td>30</td>\n",
       "      <td>19.95</td>\n",
       "      <td>30822</td>\n",
       "      <td>Mrs</td>\n",
       "      <td>17-04-69</td>\n",
       "      <td>Saxony</td>\n",
       "      <td>23-06-16</td>\n",
       "      <td>0</td>\n",
       "    </tr>\n",
       "    <tr>\n",
       "      <td>3</td>\n",
       "      <td>22-06-16</td>\n",
       "      <td>27-06-16</td>\n",
       "      <td>270</td>\n",
       "      <td>xxl</td>\n",
       "      <td>grey</td>\n",
       "      <td>49</td>\n",
       "      <td>79.90</td>\n",
       "      <td>30823</td>\n",
       "      <td>Mrs</td>\n",
       "      <td>22-04-70</td>\n",
       "      <td>Baden-Wuerttemberg</td>\n",
       "      <td>15-03-15</td>\n",
       "      <td>1</td>\n",
       "    </tr>\n",
       "    <tr>\n",
       "      <td>4</td>\n",
       "      <td>22-06-16</td>\n",
       "      <td>27-06-16</td>\n",
       "      <td>142</td>\n",
       "      <td>xxl</td>\n",
       "      <td>grey</td>\n",
       "      <td>49</td>\n",
       "      <td>99.90</td>\n",
       "      <td>30823</td>\n",
       "      <td>Mrs</td>\n",
       "      <td>22-04-70</td>\n",
       "      <td>Baden-Wuerttemberg</td>\n",
       "      <td>15-03-15</td>\n",
       "      <td>0</td>\n",
       "    </tr>\n",
       "    <tr>\n",
       "      <td>5</td>\n",
       "      <td>22-06-16</td>\n",
       "      <td>27-06-16</td>\n",
       "      <td>561</td>\n",
       "      <td>xxl</td>\n",
       "      <td>grey</td>\n",
       "      <td>3</td>\n",
       "      <td>14.90</td>\n",
       "      <td>30823</td>\n",
       "      <td>Mrs</td>\n",
       "      <td>22-04-70</td>\n",
       "      <td>Baden-Wuerttemberg</td>\n",
       "      <td>15-03-15</td>\n",
       "      <td>1</td>\n",
       "    </tr>\n",
       "  </tbody>\n",
       "</table>\n",
       "</div>"
      ],
      "text/plain": [
       "              order_date delivery_date  item_id item_size item_color  \\\n",
       "order_item_id                                                          \n",
       "1               22-06-16      27-06-16      643        38       navy   \n",
       "2               22-06-16           NaN      337       152       grey   \n",
       "3               22-06-16      27-06-16      270       xxl       grey   \n",
       "4               22-06-16      27-06-16      142       xxl       grey   \n",
       "5               22-06-16      27-06-16      561       xxl       grey   \n",
       "\n",
       "               brand_id  item_price  user_id user_title  user_dob  \\\n",
       "order_item_id                                                       \n",
       "1                    30       49.90    30822        Mrs  17-04-69   \n",
       "2                    30       19.95    30822        Mrs  17-04-69   \n",
       "3                    49       79.90    30823        Mrs  22-04-70   \n",
       "4                    49       99.90    30823        Mrs  22-04-70   \n",
       "5                     3       14.90    30823        Mrs  22-04-70   \n",
       "\n",
       "                       user_state user_reg_date  return  \n",
       "order_item_id                                            \n",
       "1                          Saxony      23-06-16       0  \n",
       "2                          Saxony      23-06-16       0  \n",
       "3              Baden-Wuerttemberg      15-03-15       1  \n",
       "4              Baden-Wuerttemberg      15-03-15       0  \n",
       "5              Baden-Wuerttemberg      15-03-15       1  "
      ]
     },
     "execution_count": 2,
     "metadata": {},
     "output_type": "execute_result"
    }
   ],
   "source": [
    "df_known.head()"
   ]
  },
  {
   "cell_type": "markdown",
   "metadata": {},
   "source": [
    "Conclusions about dataset at this point:\n",
    "\n",
    "- Number of features: 14\n",
    "- Number of observations: 100,000\n",
    "- 1 index column: order_item_id\n",
    "- 4 date columns: order_date, delivery_date, user_dob, user_reg_date\n",
    "- 5 numerical columns: item_id, brand_id, item_price, user_id, return\n",
    "- 4 categorical columns: item size, item_color, user_title, user_state\n",
    "\n",
    "We also notice an imlicit separation in the columns:\n",
    "- Cols 1-8 are related to item\n",
    "- Cols 9-13 are related to user\n",
    "- Col 14 indicates whether order was returned"
   ]
  },
  {
   "cell_type": "markdown",
   "metadata": {},
   "source": [
    "### 2.3 Closer look on data types"
   ]
  },
  {
   "cell_type": "code",
   "execution_count": 3,
   "metadata": {
    "scrolled": true
   },
   "outputs": [
    {
     "name": "stdout",
     "output_type": "stream",
     "text": [
      "<class 'pandas.core.frame.DataFrame'>\n",
      "Int64Index: 100000 entries, 1 to 100000\n",
      "Data columns (total 13 columns):\n",
      "order_date       100000 non-null object\n",
      "delivery_date    90682 non-null object\n",
      "item_id          100000 non-null int64\n",
      "item_size        100000 non-null object\n",
      "item_color       100000 non-null object\n",
      "brand_id         100000 non-null int64\n",
      "item_price       100000 non-null float64\n",
      "user_id          100000 non-null int64\n",
      "user_title       100000 non-null object\n",
      "user_dob         91275 non-null object\n",
      "user_state       100000 non-null object\n",
      "user_reg_date    100000 non-null object\n",
      "return           100000 non-null int64\n",
      "dtypes: float64(1), int64(4), object(8)\n",
      "memory usage: 10.7+ MB\n"
     ]
    }
   ],
   "source": [
    "df_known.info()"
   ]
  },
  {
   "cell_type": "markdown",
   "metadata": {},
   "source": [
    "Observations regarding data types:\n",
    "- 8 columns have data type **object** assigned to them\n",
    "- 4 columns are of type **int64**:  item_id, user_id, brand_id & return\n",
    "- 1 column is of type **float64**\n",
    "\n",
    "In addition:\n",
    "- 2 column have **null** values (delivery_date, user_dob)"
   ]
  },
  {
   "cell_type": "markdown",
   "metadata": {},
   "source": [
    "### 2.4 Summary statistics about known dataset"
   ]
  },
  {
   "cell_type": "code",
   "execution_count": 4,
   "metadata": {
    "scrolled": true
   },
   "outputs": [
    {
     "data": {
      "text/html": [
       "<div>\n",
       "<style scoped>\n",
       "    .dataframe tbody tr th:only-of-type {\n",
       "        vertical-align: middle;\n",
       "    }\n",
       "\n",
       "    .dataframe tbody tr th {\n",
       "        vertical-align: top;\n",
       "    }\n",
       "\n",
       "    .dataframe thead th {\n",
       "        text-align: right;\n",
       "    }\n",
       "</style>\n",
       "<table border=\"1\" class=\"dataframe\">\n",
       "  <thead>\n",
       "    <tr style=\"text-align: right;\">\n",
       "      <th></th>\n",
       "      <th>order_date</th>\n",
       "      <th>delivery_date</th>\n",
       "      <th>item_id</th>\n",
       "      <th>item_size</th>\n",
       "      <th>item_color</th>\n",
       "      <th>brand_id</th>\n",
       "      <th>item_price</th>\n",
       "      <th>user_id</th>\n",
       "      <th>user_title</th>\n",
       "      <th>user_dob</th>\n",
       "      <th>user_state</th>\n",
       "      <th>user_reg_date</th>\n",
       "      <th>return</th>\n",
       "    </tr>\n",
       "  </thead>\n",
       "  <tbody>\n",
       "    <tr>\n",
       "      <td>count</td>\n",
       "      <td>100000</td>\n",
       "      <td>90682</td>\n",
       "      <td>100000.000000</td>\n",
       "      <td>100000</td>\n",
       "      <td>100000</td>\n",
       "      <td>100000.000000</td>\n",
       "      <td>100000.000000</td>\n",
       "      <td>100000.000000</td>\n",
       "      <td>100000</td>\n",
       "      <td>91275</td>\n",
       "      <td>100000</td>\n",
       "      <td>100000</td>\n",
       "      <td>100000.000000</td>\n",
       "    </tr>\n",
       "    <tr>\n",
       "      <td>unique</td>\n",
       "      <td>82</td>\n",
       "      <td>123</td>\n",
       "      <td>NaN</td>\n",
       "      <td>102</td>\n",
       "      <td>77</td>\n",
       "      <td>NaN</td>\n",
       "      <td>NaN</td>\n",
       "      <td>NaN</td>\n",
       "      <td>5</td>\n",
       "      <td>9247</td>\n",
       "      <td>16</td>\n",
       "      <td>573</td>\n",
       "      <td>NaN</td>\n",
       "    </tr>\n",
       "    <tr>\n",
       "      <td>top</td>\n",
       "      <td>27-06-16</td>\n",
       "      <td>03-07-16</td>\n",
       "      <td>NaN</td>\n",
       "      <td>l</td>\n",
       "      <td>black</td>\n",
       "      <td>NaN</td>\n",
       "      <td>NaN</td>\n",
       "      <td>NaN</td>\n",
       "      <td>Mrs</td>\n",
       "      <td>21-11-00</td>\n",
       "      <td>North Rhine-Westphalia</td>\n",
       "      <td>17-02-15</td>\n",
       "      <td>NaN</td>\n",
       "    </tr>\n",
       "    <tr>\n",
       "      <td>freq</td>\n",
       "      <td>5577</td>\n",
       "      <td>5061</td>\n",
       "      <td>NaN</td>\n",
       "      <td>12347</td>\n",
       "      <td>18640</td>\n",
       "      <td>NaN</td>\n",
       "      <td>NaN</td>\n",
       "      <td>NaN</td>\n",
       "      <td>95429</td>\n",
       "      <td>919</td>\n",
       "      <td>22825</td>\n",
       "      <td>33966</td>\n",
       "      <td>NaN</td>\n",
       "    </tr>\n",
       "    <tr>\n",
       "      <td>mean</td>\n",
       "      <td>NaN</td>\n",
       "      <td>NaN</td>\n",
       "      <td>923.781820</td>\n",
       "      <td>NaN</td>\n",
       "      <td>NaN</td>\n",
       "      <td>30.149020</td>\n",
       "      <td>65.064695</td>\n",
       "      <td>27169.073960</td>\n",
       "      <td>NaN</td>\n",
       "      <td>NaN</td>\n",
       "      <td>NaN</td>\n",
       "      <td>NaN</td>\n",
       "      <td>0.458180</td>\n",
       "    </tr>\n",
       "    <tr>\n",
       "      <td>std</td>\n",
       "      <td>NaN</td>\n",
       "      <td>NaN</td>\n",
       "      <td>702.568822</td>\n",
       "      <td>NaN</td>\n",
       "      <td>NaN</td>\n",
       "      <td>28.180191</td>\n",
       "      <td>47.991546</td>\n",
       "      <td>14053.417669</td>\n",
       "      <td>NaN</td>\n",
       "      <td>NaN</td>\n",
       "      <td>NaN</td>\n",
       "      <td>NaN</td>\n",
       "      <td>0.498251</td>\n",
       "    </tr>\n",
       "    <tr>\n",
       "      <td>min</td>\n",
       "      <td>NaN</td>\n",
       "      <td>NaN</td>\n",
       "      <td>1.000000</td>\n",
       "      <td>NaN</td>\n",
       "      <td>NaN</td>\n",
       "      <td>1.000000</td>\n",
       "      <td>0.000000</td>\n",
       "      <td>9.000000</td>\n",
       "      <td>NaN</td>\n",
       "      <td>NaN</td>\n",
       "      <td>NaN</td>\n",
       "      <td>NaN</td>\n",
       "      <td>0.000000</td>\n",
       "    </tr>\n",
       "    <tr>\n",
       "      <td>25%</td>\n",
       "      <td>NaN</td>\n",
       "      <td>NaN</td>\n",
       "      <td>214.000000</td>\n",
       "      <td>NaN</td>\n",
       "      <td>NaN</td>\n",
       "      <td>5.000000</td>\n",
       "      <td>29.900000</td>\n",
       "      <td>14937.000000</td>\n",
       "      <td>NaN</td>\n",
       "      <td>NaN</td>\n",
       "      <td>NaN</td>\n",
       "      <td>NaN</td>\n",
       "      <td>0.000000</td>\n",
       "    </tr>\n",
       "    <tr>\n",
       "      <td>50%</td>\n",
       "      <td>NaN</td>\n",
       "      <td>NaN</td>\n",
       "      <td>812.000000</td>\n",
       "      <td>NaN</td>\n",
       "      <td>NaN</td>\n",
       "      <td>25.000000</td>\n",
       "      <td>49.900000</td>\n",
       "      <td>31189.000000</td>\n",
       "      <td>NaN</td>\n",
       "      <td>NaN</td>\n",
       "      <td>NaN</td>\n",
       "      <td>NaN</td>\n",
       "      <td>0.000000</td>\n",
       "    </tr>\n",
       "    <tr>\n",
       "      <td>75%</td>\n",
       "      <td>NaN</td>\n",
       "      <td>NaN</td>\n",
       "      <td>1581.000000</td>\n",
       "      <td>NaN</td>\n",
       "      <td>NaN</td>\n",
       "      <td>44.000000</td>\n",
       "      <td>79.900000</td>\n",
       "      <td>38917.250000</td>\n",
       "      <td>NaN</td>\n",
       "      <td>NaN</td>\n",
       "      <td>NaN</td>\n",
       "      <td>NaN</td>\n",
       "      <td>1.000000</td>\n",
       "    </tr>\n",
       "    <tr>\n",
       "      <td>max</td>\n",
       "      <td>NaN</td>\n",
       "      <td>NaN</td>\n",
       "      <td>2241.000000</td>\n",
       "      <td>NaN</td>\n",
       "      <td>NaN</td>\n",
       "      <td>138.000000</td>\n",
       "      <td>999.000000</td>\n",
       "      <td>48241.000000</td>\n",
       "      <td>NaN</td>\n",
       "      <td>NaN</td>\n",
       "      <td>NaN</td>\n",
       "      <td>NaN</td>\n",
       "      <td>1.000000</td>\n",
       "    </tr>\n",
       "  </tbody>\n",
       "</table>\n",
       "</div>"
      ],
      "text/plain": [
       "       order_date delivery_date        item_id item_size item_color  \\\n",
       "count      100000         90682  100000.000000    100000     100000   \n",
       "unique         82           123            NaN       102         77   \n",
       "top      27-06-16      03-07-16            NaN         l      black   \n",
       "freq         5577          5061            NaN     12347      18640   \n",
       "mean          NaN           NaN     923.781820       NaN        NaN   \n",
       "std           NaN           NaN     702.568822       NaN        NaN   \n",
       "min           NaN           NaN       1.000000       NaN        NaN   \n",
       "25%           NaN           NaN     214.000000       NaN        NaN   \n",
       "50%           NaN           NaN     812.000000       NaN        NaN   \n",
       "75%           NaN           NaN    1581.000000       NaN        NaN   \n",
       "max           NaN           NaN    2241.000000       NaN        NaN   \n",
       "\n",
       "             brand_id     item_price        user_id user_title  user_dob  \\\n",
       "count   100000.000000  100000.000000  100000.000000     100000     91275   \n",
       "unique            NaN            NaN            NaN          5      9247   \n",
       "top               NaN            NaN            NaN        Mrs  21-11-00   \n",
       "freq              NaN            NaN            NaN      95429       919   \n",
       "mean        30.149020      65.064695   27169.073960        NaN       NaN   \n",
       "std         28.180191      47.991546   14053.417669        NaN       NaN   \n",
       "min          1.000000       0.000000       9.000000        NaN       NaN   \n",
       "25%          5.000000      29.900000   14937.000000        NaN       NaN   \n",
       "50%         25.000000      49.900000   31189.000000        NaN       NaN   \n",
       "75%         44.000000      79.900000   38917.250000        NaN       NaN   \n",
       "max        138.000000     999.000000   48241.000000        NaN       NaN   \n",
       "\n",
       "                    user_state user_reg_date         return  \n",
       "count                   100000        100000  100000.000000  \n",
       "unique                      16           573            NaN  \n",
       "top     North Rhine-Westphalia      17-02-15            NaN  \n",
       "freq                     22825         33966            NaN  \n",
       "mean                       NaN           NaN       0.458180  \n",
       "std                        NaN           NaN       0.498251  \n",
       "min                        NaN           NaN       0.000000  \n",
       "25%                        NaN           NaN       0.000000  \n",
       "50%                        NaN           NaN       0.000000  \n",
       "75%                        NaN           NaN       1.000000  \n",
       "max                        NaN           NaN       1.000000  "
      ]
     },
     "execution_count": 4,
     "metadata": {},
     "output_type": "execute_result"
    }
   ],
   "source": [
    "df_known.describe(include = \"all\")"
   ]
  },
  {
   "cell_type": "markdown",
   "metadata": {},
   "source": [
    "Observations:\n",
    "- as above: delivery_date & user_dob contain nullls (~10% of observations)\n",
    "- order_date spans from 1st of July 2016 to 12th of August 2016\n",
    "- delivery_date column spans from 1994 to 24th of Jan 2017 - indication of possible outlying values\n",
    "- item_size and item_color have 102 & 77 unique values respectively, which seem to many for what the columns represent (possible unify/recateg needed)\n",
    "- item_price:\n",
    "    - mean value is 65.064..., which means that average price of ordered items is €65\n",
    "    - standard dev = 47.991546\n",
    "    - min = 0 : possible outlier\n",
    "    - IQR: 29.9 - 79.9: So prices of items in the IQR ranges betweeen €30 to €80\n",
    "    - most expensive item ordered = €1000\n",
    "- user_id: approx 19k unique values, which means that approx 19k clients have ordered the 100,000k items (possible duplicate accounts)\n",
    "- user_title: 95.429% of observation are \"Mrs\": possible recategorization needed or remove completely\n",
    "    - possible bias in training dataset - further research could help clarify\n",
    "- user_dob: min value = 1971 Jan 1st, max value = 2070 31st Dec, which is obviously an outlying value and should be handled\n",
    "- user_state: 16 different values (as many as Bundesländer in DE), 22.825 % of orders from Nordrhein Westphalia\n",
    "- user_reg_date: 1/3 (33.966%) of users registered on 17th of Feb 2015 (possible opening of the online store or default value)\n",
    "- return: sligtly more (54.183%) of orders were returned (value = 1) than not returned"
   ]
  },
  {
   "cell_type": "markdown",
   "metadata": {},
   "source": [
    "### 2.5 First visual exploration"
   ]
  },
  {
   "cell_type": "markdown",
   "metadata": {},
   "source": [
    "#### item_price histogram"
   ]
  },
  {
   "cell_type": "code",
   "execution_count": 7,
   "metadata": {},
   "outputs": [
    {
     "data": {
      "text/plain": [
       "(array([5.1924e+04, 3.3027e+04, 8.7060e+03, 4.8890e+03, 8.9800e+02,\n",
       "        4.7800e+02, 2.8000e+01, 4.6000e+01]),\n",
       " array([  0.,  50., 100., 150., 200., 250., 300., 350., 400.]),\n",
       " <a list of 8 Patch objects>)"
      ]
     },
     "execution_count": 7,
     "metadata": {},
     "output_type": "execute_result"
    },
    {
     "data": {
      "image/png": "[encoded data removed]",
      "text/plain": [
       "<Figure size 1080x432 with 1 Axes>"
      ]
     },
     "metadata": {
      "needs_background": "light"
     },
     "output_type": "display_data"
    }
   ],
   "source": [
    "plt.hist(df_known.item_price, bins = 8, range = (0, 400))"
   ]
  },
  {
   "cell_type": "markdown",
   "metadata": {},
   "source": [
    "Conclusions:\n",
    "- Vast majority of orders is priced €200 or lower\n",
    "- Slightly more than 50% of orders are priced €50 or lower\n",
    "- Slightly more than 30% of orders are priced higher than €50 but lower than €100\n",
    "- almost 10% of orders are priced between 100-150\n",
    "- rest (~10%) of observations have price > 150"
   ]
  },
  {
   "cell_type": "markdown",
   "metadata": {},
   "source": [
    "#### Correlation heatmap"
   ]
  },
  {
   "cell_type": "markdown",
   "metadata": {},
   "source": [
    "In order to check how some features relate with each other at this point it would help to visualize the correlation between those features using seaborn:"
   ]
  },
  {
   "cell_type": "code",
   "execution_count": 8,
   "metadata": {
    "scrolled": false
   },
   "outputs": [
    {
     "data": {
      "text/plain": [
       "<matplotlib.axes._subplots.AxesSubplot at 0x1d599c381c8>"
      ]
     },
     "execution_count": 8,
     "metadata": {},
     "output_type": "execute_result"
    },
    {
     "data": {
      "image/png": "[encoded data removed]",
      "text/plain": [
       "<Figure size 720x576 with 2 Axes>"
      ]
     },
     "metadata": {
      "needs_background": "light"
     },
     "output_type": "display_data"
    }
   ],
   "source": [
    "# sns correlation heatmap\n",
    "fig, ax = plt.subplots(figsize=(10,8))\n",
    "corr = df_known.corr()\n",
    "\n",
    "sns.heatmap(corr,\n",
    "            annot= True,\n",
    "            xticklabels=corr.columns.values)"
   ]
  },
  {
   "cell_type": "markdown",
   "metadata": {},
   "source": [
    "Conclusions:\n",
    "- Highest correlation is observed between features item_price & return\n",
    "- This can be interpreted as: possibility of an order to be returned is mostly related to its price, according to the analysis done so far.\n",
    "\n",
    "The possibility that there is a single factor that can explain and correlates highly with return is excluded at this point."
   ]
  },
  {
   "cell_type": "markdown",
   "metadata": {},
   "source": [
    "---"
   ]
  },
  {
   "cell_type": "markdown",
   "metadata": {},
   "source": [
    "## 3. Data Prep "
   ]
  },
  {
   "cell_type": "markdown",
   "metadata": {},
   "source": [
    "### 3.1 Convert data types"
   ]
  },
  {
   "cell_type": "markdown",
   "metadata": {},
   "source": [
    "From analysis in part 2, it is to be concluded that some of the features are not assigned appropriate data type."
   ]
  },
  {
   "cell_type": "code",
   "execution_count": 9,
   "metadata": {
    "scrolled": false
   },
   "outputs": [
    {
     "data": {
      "text/plain": [
       "order_date       datetime64[ns]\n",
       "delivery_date    datetime64[ns]\n",
       "item_id                  object\n",
       "item_size                object\n",
       "item_color               object\n",
       "brand_id                 object\n",
       "item_price              float64\n",
       "user_id                  object\n",
       "user_title               object\n",
       "user_dob         datetime64[ns]\n",
       "user_state               object\n",
       "user_reg_date    datetime64[ns]\n",
       "return                    int64\n",
       "dtype: object"
      ]
     },
     "execution_count": 9,
     "metadata": {},
     "output_type": "execute_result"
    }
   ],
   "source": [
    "# Dates are to be converted to datetime data type in order to be able to make calculations\n",
    "\n",
    "df_known[\"order_date\"] = df_known[\"order_date\"].astype(\"datetime64\")\n",
    "df_known[\"delivery_date\"] = df_known[\"delivery_date\"].astype(\"datetime64\")\n",
    "df_known[\"item_id\"] = df_known[\"item_id\"].astype(\"object\")\n",
    "df_known[\"brand_id\"] = df_known[\"brand_id\"].astype(\"object\")\n",
    "df_known[\"user_id\"] = df_known[\"user_id\"].astype(\"object\")\n",
    "df_known[\"user_dob\"] = df_known[\"user_dob\"].astype(\"datetime64\")\n",
    "df_known[\"user_reg_date\"] = df_known[\"user_reg_date\"].astype(\"datetime64\")\n",
    "\n",
    "df_known.dtypes"
   ]
  },
  {
   "cell_type": "markdown",
   "metadata": {},
   "source": [
    "### 3.2 Handle empty/nulls"
   ]
  },
  {
   "cell_type": "markdown",
   "metadata": {},
   "source": [
    "As seen in part 2, columns delivery_date and user_dob have around 10% of the observations nulls:"
   ]
  },
  {
   "cell_type": "code",
   "execution_count": 15,
   "metadata": {
    "scrolled": true
   },
   "outputs": [
    {
     "name": "stdout",
     "output_type": "stream",
     "text": [
      "order_date          0\n",
      "delivery_date    9318\n",
      "item_id             0\n",
      "item_size           0\n",
      "item_color          0\n",
      "brand_id            0\n",
      "item_price          0\n",
      "user_id             0\n",
      "user_title          0\n",
      "user_dob         8725\n",
      "user_state          0\n",
      "user_reg_date       0\n",
      "return              0\n",
      "dtype: int64\n"
     ]
    }
   ],
   "source": [
    "print(df_known.isnull().sum())"
   ]
  },
  {
   "cell_type": "markdown",
   "metadata": {},
   "source": [
    "In order to handle those null values we are going to **impute mean value** for those features, as to prevent data loss (Kumar, 2020)"
   ]
  },
  {
   "cell_type": "code",
   "execution_count": 16,
   "metadata": {},
   "outputs": [],
   "source": [
    "# creating a copy of the dataframe to work on\n",
    "df_known_2 = df_known.copy()"
   ]
  },
  {
   "cell_type": "code",
   "execution_count": 17,
   "metadata": {},
   "outputs": [
    {
     "name": "stdout",
     "output_type": "stream",
     "text": [
      "2016-04-07 10:44:13.333464832\n",
      "2041-05-05 07:12:29.817629952\n"
     ]
    }
   ],
   "source": [
    "delivery_date_mean = df_known_2.delivery_date.mean()\n",
    "user_dob_mean = df_known_2.user_dob.mean()\n",
    "\n",
    "print(delivery_date_mean)\n",
    "print(user_dob_mean)"
   ]
  },
  {
   "cell_type": "code",
   "execution_count": 18,
   "metadata": {},
   "outputs": [],
   "source": [
    "df_known_2.delivery_date.fillna(delivery_date_mean, inplace = True)\n",
    "df_known_2.user_dob.fillna(user_dob_mean, inplace = True)"
   ]
  },
  {
   "cell_type": "markdown",
   "metadata": {},
   "source": [
    "No nulls remain in the dataset:"
   ]
  },
  {
   "cell_type": "code",
   "execution_count": 19,
   "metadata": {},
   "outputs": [
    {
     "name": "stdout",
     "output_type": "stream",
     "text": [
      "order_date       0\n",
      "delivery_date    0\n",
      "item_id          0\n",
      "item_size        0\n",
      "item_color       0\n",
      "brand_id         0\n",
      "item_price       0\n",
      "user_id          0\n",
      "user_title       0\n",
      "user_dob         0\n",
      "user_state       0\n",
      "user_reg_date    0\n",
      "return           0\n",
      "dtype: int64\n"
     ]
    }
   ],
   "source": [
    "print(df_known_2.isnull().sum())"
   ]
  },
  {
   "cell_type": "markdown",
   "metadata": {},
   "source": [
    "### 3.3 Handle outliers"
   ]
  },
  {
   "cell_type": "markdown",
   "metadata": {},
   "source": [
    "As per analysis in part 2, several features have outliers:"
   ]
  },
  {
   "cell_type": "code",
   "execution_count": 20,
   "metadata": {},
   "outputs": [
    {
     "name": "stdout",
     "output_type": "stream",
     "text": [
      "order_date       2016-12-08 00:00:00\n",
      "delivery_date    2017-01-24 00:00:00\n",
      "item_id                         2241\n",
      "item_size                       xxxl\n",
      "item_color                    yellow\n",
      "brand_id                         138\n",
      "item_price                       999\n",
      "user_id                        48241\n",
      "user_title              not reported\n",
      "user_dob         2070-12-31 00:00:00\n",
      "user_state                 Thuringia\n",
      "user_reg_date    2016-12-09 00:00:00\n",
      "return                             1\n",
      "dtype: object\n",
      "\n",
      "order_date       2016-01-07 00:00:00\n",
      "delivery_date    1994-12-31 00:00:00\n",
      "item_id                            1\n",
      "item_size                          1\n",
      "item_color                         ?\n",
      "brand_id                           1\n",
      "item_price                         0\n",
      "user_id                            9\n",
      "user_title                   Company\n",
      "user_dob         1971-01-01 00:00:00\n",
      "user_state        Baden-Wuerttemberg\n",
      "user_reg_date    2015-01-03 00:00:00\n",
      "return                             0\n",
      "dtype: object\n"
     ]
    }
   ],
   "source": [
    "print(df_known_2.max(), df_known_2.min(), sep = \"\\n\\n\")"
   ]
  },
  {
   "cell_type": "markdown",
   "metadata": {},
   "source": [
    "Specifically, the following columns present necessity to handle outlying values:\n",
    "- delivery_date\n",
    "- user_dob"
   ]
  },
  {
   "cell_type": "markdown",
   "metadata": {},
   "source": [
    "In order to handle outliers in our dataset, we are going to truncate the dataset to keep only the values that are within IQR"
   ]
  },
  {
   "cell_type": "code",
   "execution_count": 21,
   "metadata": {},
   "outputs": [],
   "source": [
    "# function to handle outliers within IQR\n",
    "def outlier_truncation(x, factor=1.5):\n",
    "    '''\n",
    "    Identifies outlier values based on the inter-quartile range IQR. \n",
    "    Corresponding outliers are truncated and set to a contant value equal to the IQR\n",
    "    times a factor, which, following Tuckey's rule, we set to 1.5 by default\n",
    "    \n",
    "        Parameters:\n",
    "            x (Pandas Series): A data frame column to scan for outliers\n",
    "            factor (float): An outlier is a value this many times the IQR above q3/below q1\n",
    "            \n",
    "        Returns:\n",
    "            Adjusted variable in which outliers are truncated\n",
    "    '''\n",
    "    x_new = x.copy()\n",
    "    \n",
    "    # Calculate IQR\n",
    "    IQR = x.quantile(0.75) - x.quantile(0.25) \n",
    "    \n",
    "    # Define upper/lower bound\n",
    "    upper = x.quantile(0.75) + factor*IQR\n",
    "    lower = x.quantile(0.25) - factor*IQR\n",
    "    \n",
    "    # Truncation\n",
    "    x_new[x < lower] = lower\n",
    "    x_new[x > upper] = upper\n",
    "    \n",
    "    return x_new"
   ]
  },
  {
   "cell_type": "code",
   "execution_count": 22,
   "metadata": {
    "scrolled": true
   },
   "outputs": [
    {
     "name": "stdout",
     "output_type": "stream",
     "text": [
      "order_item_id\n",
      "1         1466985600000000000\n",
      "2         1460025853333464832\n",
      "3         1466985600000000000\n",
      "4         1466985600000000000\n",
      "5         1466985600000000000\n",
      "                 ...         \n",
      "99996     1481241600000000000\n",
      "99997     1481241600000000000\n",
      "99998     1442458233333662208\n",
      "99999     1442458233333662208\n",
      "100000    1470787200000000000\n",
      "Name: delivery_date, Length: 100000, dtype: int64\n",
      "\n",
      "\n",
      "order_item_id\n",
      "1         3133382400000000000\n",
      "2         3133382400000000000\n",
      "3         3165350400000000000\n",
      "4         3165350400000000000\n",
      "5         3165350400000000000\n",
      "                 ...         \n",
      "99996     2815430400000000000\n",
      "99997     2815430400000000000\n",
      "99998     1132034474544074880\n",
      "99999     1132034474544074880\n",
      "100000    1132034474544074880\n",
      "Name: user_dob, Length: 100000, dtype: int64\n",
      "\n",
      "\n",
      "order_item_id\n",
      "1         1466553600000000000\n",
      "2         1466553600000000000\n",
      "3         1466553600000000000\n",
      "4         1466553600000000000\n",
      "5         1466553600000000000\n",
      "                 ...         \n",
      "99996     1478649600000000000\n",
      "99997     1478649600000000000\n",
      "99998     1478649600000000000\n",
      "99999     1478649600000000000\n",
      "100000    1478649600000000000\n",
      "Name: order_date, Length: 100000, dtype: int64\n"
     ]
    }
   ],
   "source": [
    "delivery_date_new = outlier_truncation(df_known_2.delivery_date.astype(np.int64)) # convert to int to make function possible to use\n",
    "user_dob_new = outlier_truncation(df_known_2.user_dob.astype(np.int64)) # convert to int to make function possible to use\n",
    "order_date_new = outlier_truncation(df_known_2.order_date.astype(np.int64))\n",
    "\n",
    "print(delivery_date_new)\n",
    "print(\"\\n\")\n",
    "print(user_dob_new)\n",
    "print(\"\\n\")\n",
    "print(order_date_new)"
   ]
  },
  {
   "cell_type": "code",
   "execution_count": 23,
   "metadata": {},
   "outputs": [],
   "source": [
    "# assigning the new columns back to the dataframe\n",
    "df_known_2[\"delivery_date\"] = delivery_date_new.astype(\"datetime64[ns]\")\n",
    "df_known_2[\"user_dob\"] = user_dob_new.astype(\"datetime64[ns]\")\n",
    "df_known_2[\"order_date\"] = order_date_new.astype(\"datetime64[ns]\")"
   ]
  },
  {
   "cell_type": "markdown",
   "metadata": {},
   "source": [
    "Now min/max values for the selected columsn are adjusted accordingly:"
   ]
  },
  {
   "cell_type": "code",
   "execution_count": 24,
   "metadata": {},
   "outputs": [
    {
     "name": "stdout",
     "output_type": "stream",
     "text": [
      "order_date       2016-12-07 12:00:00\n",
      "delivery_date    2017-01-24 00:00:00\n",
      "item_id                         2241\n",
      "item_size                       xxxl\n",
      "item_color                    yellow\n",
      "brand_id                         138\n",
      "item_price                       999\n",
      "user_id                        48241\n",
      "user_title              not reported\n",
      "user_dob         2070-12-31 00:00:00\n",
      "user_state                 Thuringia\n",
      "user_reg_date    2016-12-09 00:00:00\n",
      "return                             1\n",
      "dtype: object\n",
      "\n",
      "order_date                 2016-02-19 12:00:00\n",
      "delivery_date    2015-09-17 02:50:33.333662208\n",
      "item_id                                      1\n",
      "item_size                                    1\n",
      "item_color                                   ?\n",
      "brand_id                                     1\n",
      "item_price                                   0\n",
      "user_id                                      9\n",
      "user_title                             Company\n",
      "user_dob         2005-11-15 06:01:14.544074880\n",
      "user_state                  Baden-Wuerttemberg\n",
      "user_reg_date              2015-01-03 00:00:00\n",
      "return                                       0\n",
      "dtype: object\n"
     ]
    }
   ],
   "source": [
    "print(df_known_2.max(), df_known_2.min(), sep = \"\\n\\n\")"
   ]
  },
  {
   "cell_type": "markdown",
   "metadata": {},
   "source": [
    "### 3.4 Feature recategorization"
   ]
  },
  {
   "cell_type": "markdown",
   "metadata": {},
   "source": [
    "#### item_size"
   ]
  },
  {
   "cell_type": "markdown",
   "metadata": {},
   "source": [
    "Feature item_size contains many different values, text or numbers as text. It is better to handle those different values to be able to make some meaning and use the feature for the analysis. In this regards, all different values will befitted for item_size into xs-xl proportionally:"
   ]
  },
  {
   "cell_type": "code",
   "execution_count": 26,
   "metadata": {},
   "outputs": [],
   "source": [
    "item_size = df_known_2.item_size"
   ]
  },
  {
   "cell_type": "code",
   "execution_count": 27,
   "metadata": {},
   "outputs": [
    {
     "data": {
      "text/plain": [
       "array(['1', '10', '10+', '100', '104', '105', '11', '11+', '116', '12',\n",
       "       '12+', '128', '13', '14', '140', '152', '164', '176', '18', '19',\n",
       "       '2', '2+', '20', '21', '22', '23', '24', '25', '26', '27', '28',\n",
       "       '29', '3', '3+', '30', '31', '3132', '32', '33', '3332', '34',\n",
       "       '3432', '35', '36', '36+', '3632', '3634', '37', '37+', '38',\n",
       "       '38+', '3832', '3834', '39', '39+', '4', '4+', '40', '40+', '4032',\n",
       "       '4034', '41', '41+', '42', '42+', '43', '43+', '44', '44+', '45',\n",
       "       '45+', '46', '46+', '47', '48', '49', '5', '5+', '50', '52', '54',\n",
       "       '56', '58', '6', '6+', '7', '7+', '8', '8+', '80', '84', '9', '9+',\n",
       "       '90', 'l', 'm', 's', 'unsized', 'xl', 'xs', 'xxl', 'xxxl'],\n",
       "      dtype=object)"
      ]
     },
     "execution_count": 27,
     "metadata": {},
     "output_type": "execute_result"
    }
   ],
   "source": [
    "# what values exist in item_size\n",
    "np.sort(item_size.unique())"
   ]
  },
  {
   "cell_type": "markdown",
   "metadata": {},
   "source": [
    "Recategorising as follows:"
   ]
  },
  {
   "cell_type": "code",
   "execution_count": 28,
   "metadata": {},
   "outputs": [],
   "source": [
    "# recategorizing is done in an empirical-manual way to reduce number of categories\n",
    "\n",
    "# recategorize xxl and xxxl into xl\n",
    "item_size = item_size.replace([\"xxl\", \"xxxl\"], \"xl\", inplace = False)\n",
    "\n",
    "# all other numerical sizes into this categories\n",
    "item_size = item_size.replace([\"1\", \"1+\", \"2\", \"2+\", \"3\", \"3+\"], \"xs\", inplace = False)\n",
    "item_size = item_size.replace([\"4\", \"4+\", \"5\", \"5+\", \"6\", \"6+\"], \"s\", inplace = False)\n",
    "item_size = item_size.replace([\"7\", \"7+\", \"8\", \"8+\", \"9\", \"9+\"], \"m\", inplace = False)\n",
    "item_size = item_size.replace([\"10\", \"10+\", \"11\", \"11+\"], \"l\", inplace = False)\n",
    "item_size = item_size.replace([\"12\", \"12+\", \"13\", \"14\"], \"xl\", inplace = False)\n",
    "\n",
    "item_size = item_size.replace([\"100\", \"104\"], \"xs\", inplace = False)\n",
    "item_size = item_size.replace([\"105\", \"116\"], \"s\", inplace = False)\n",
    "item_size = item_size.replace([\"128\", \"140\"], \"m\", inplace = False)\n",
    "item_size = item_size.replace([\"152\", \"164\"], \"l\", inplace = False)\n",
    "item_size = item_size.replace([\"176\"], \"xl\", inplace = False)\n",
    "\n",
    "item_size = item_size.replace([\"18\", \"19\", \"20\", \"21\", \"22\", \"23\"], \"xs\", inplace = False)\n",
    "item_size = item_size.replace([\"24\", \"25\", \"26\", \"27\", \"28\", \"29\"], \"s\", inplace = False)\n",
    "item_size = item_size.replace([\"30\", \"31\", \"32\", \"33\", \"34\", \"35\", \"36\", \"36+\", \"37\", \"37+\", \"38\", \"38+\", \"39\", \"39+\"], \"m\", inplace = False)\n",
    "item_size = item_size.replace([\"40\", \"40+\", \"41\", \"41+\", \"42\", \"42+\", \"43\", \"43+\", \"44\", \"44+\", \"45\", \"45+\"], \"l\", inplace = False)\n",
    "item_size = item_size.replace([\"46\", \"46+\", \"47\", \"48\", '49', '50', '52', '54', '56', \"58\", \"80\", \"84\", \"90\"], \"xl\", inplace = False)\n",
    "\n",
    "item_size = item_size.replace(['3132', '3332'], \"xs\", inplace = False)\n",
    "item_size = item_size.replace(['3432', '3632'], \"s\", inplace = False)\n",
    "item_size = item_size.replace(['3634', '3832'], \"m\", inplace = False)\n",
    "item_size = item_size.replace(['3834'], \"l\", inplace = False)\n",
    "item_size = item_size.replace(['4032', '4034'], \"xl\", inplace = False)\n",
    "\n",
    "# we treat \"unsized\" as null and replace with mode value:\n",
    "item_size = item_size.replace([\"unsized\"], item_size.mode(), inplace = False)"
   ]
  },
  {
   "cell_type": "code",
   "execution_count": 29,
   "metadata": {},
   "outputs": [
    {
     "data": {
      "text/plain": [
       "array(['l', 'm', 's', 'xl', 'xs'], dtype=object)"
      ]
     },
     "execution_count": 29,
     "metadata": {},
     "output_type": "execute_result"
    }
   ],
   "source": [
    "# let's check once again our values are all xs-sl:\n",
    "np.sort(item_size.unique())"
   ]
  },
  {
   "cell_type": "code",
   "execution_count": 30,
   "metadata": {},
   "outputs": [
    {
     "data": {
      "text/plain": [
       "order_item_id\n",
       "1          m\n",
       "2          l\n",
       "3         xl\n",
       "4         xl\n",
       "5         xl\n",
       "          ..\n",
       "99996     xs\n",
       "99997     xs\n",
       "99998     xl\n",
       "99999     xl\n",
       "100000     s\n",
       "Name: item_size, Length: 100000, dtype: object"
      ]
     },
     "execution_count": 30,
     "metadata": {},
     "output_type": "execute_result"
    }
   ],
   "source": [
    "# assign the values we have calculated to the dataframe\n",
    "df_known_2[\"item_size\"] = item_size\n",
    "df_known_2[\"item_size\"]"
   ]
  },
  {
   "cell_type": "markdown",
   "metadata": {},
   "source": [
    "### 3.5 Feature creation"
   ]
  },
  {
   "cell_type": "markdown",
   "metadata": {},
   "source": [
    "#### Delivery duration"
   ]
  },
  {
   "cell_type": "markdown",
   "metadata": {},
   "source": [
    "Goal is to examine the relation between delivery duration and returns, going to create a new column named **delivery_duration** that calculates the difference between order_date and delivery_date:"
   ]
  },
  {
   "cell_type": "code",
   "execution_count": 31,
   "metadata": {
    "scrolled": true
   },
   "outputs": [
    {
     "data": {
      "text/plain": [
       "order_item_id\n",
       "1           432000000000000\n",
       "2         -6527746666535168\n",
       "3           432000000000000\n",
       "4           432000000000000\n",
       "5           432000000000000\n",
       "                ...        \n",
       "99996      2592000000000000\n",
       "99997      2592000000000000\n",
       "99998    -36191366666337792\n",
       "99999    -36191366666337792\n",
       "100000    -7862400000000000\n",
       "Length: 100000, dtype: int64"
      ]
     },
     "execution_count": 31,
     "metadata": {},
     "output_type": "execute_result"
    }
   ],
   "source": [
    "delivery_duration = df_known_2[\"delivery_date\"] - df_known_2[\"order_date\"]\n",
    "delivery_duration = delivery_duration.astype(\"int64\")\n",
    "delivery_duration"
   ]
  },
  {
   "cell_type": "code",
   "execution_count": 32,
   "metadata": {},
   "outputs": [
    {
     "data": {
      "text/plain": [
       "order_item_id\n",
       "1           432000000000000\n",
       "2         -6527746666535168\n",
       "3           432000000000000\n",
       "4           432000000000000\n",
       "5           432000000000000\n",
       "                ...        \n",
       "99996      2592000000000000\n",
       "99997      2592000000000000\n",
       "99998    -16171580000197248\n",
       "99999    -16171580000197248\n",
       "100000    -7862400000000000\n",
       "Length: 100000, dtype: int64"
      ]
     },
     "execution_count": 32,
     "metadata": {},
     "output_type": "execute_result"
    }
   ],
   "source": [
    "# Remove outliers from the new feature\n",
    "delivery_duration = outlier_truncation(delivery_duration.astype(\"int64\"))\n",
    "delivery_duration"
   ]
  },
  {
   "cell_type": "code",
   "execution_count": 141,
   "metadata": {},
   "outputs": [],
   "source": [
    "delivery_duration = np.where(delivery_duration <= 0, 0, delivery_duration) # imput 0 to outlying values"
   ]
  },
  {
   "cell_type": "code",
   "execution_count": 34,
   "metadata": {
    "scrolled": true
   },
   "outputs": [],
   "source": [
    "# assign from variable to dataframe column\n",
    "df_known_2[\"delivery_duration\"] = delivery_duration \n",
    "\n",
    "# convert to int with number of days\n",
    "df_known_2[\"delivery_duration\"] = df_known_2[\"delivery_duration\"].astype(\"timedelta64[ns]\").dt.days"
   ]
  },
  {
   "cell_type": "markdown",
   "metadata": {},
   "source": [
    "Now dataset looks like this:"
   ]
  },
  {
   "cell_type": "code",
   "execution_count": 35,
   "metadata": {},
   "outputs": [
    {
     "data": {
      "text/html": [
       "<div>\n",
       "<style scoped>\n",
       "    .dataframe tbody tr th:only-of-type {\n",
       "        vertical-align: middle;\n",
       "    }\n",
       "\n",
       "    .dataframe tbody tr th {\n",
       "        vertical-align: top;\n",
       "    }\n",
       "\n",
       "    .dataframe thead th {\n",
       "        text-align: right;\n",
       "    }\n",
       "</style>\n",
       "<table border=\"1\" class=\"dataframe\">\n",
       "  <thead>\n",
       "    <tr style=\"text-align: right;\">\n",
       "      <th></th>\n",
       "      <th>order_date</th>\n",
       "      <th>delivery_date</th>\n",
       "      <th>item_id</th>\n",
       "      <th>item_size</th>\n",
       "      <th>item_color</th>\n",
       "      <th>brand_id</th>\n",
       "      <th>item_price</th>\n",
       "      <th>user_id</th>\n",
       "      <th>user_title</th>\n",
       "      <th>user_dob</th>\n",
       "      <th>user_state</th>\n",
       "      <th>user_reg_date</th>\n",
       "      <th>return</th>\n",
       "      <th>delivery_duration</th>\n",
       "    </tr>\n",
       "    <tr>\n",
       "      <th>order_item_id</th>\n",
       "      <th></th>\n",
       "      <th></th>\n",
       "      <th></th>\n",
       "      <th></th>\n",
       "      <th></th>\n",
       "      <th></th>\n",
       "      <th></th>\n",
       "      <th></th>\n",
       "      <th></th>\n",
       "      <th></th>\n",
       "      <th></th>\n",
       "      <th></th>\n",
       "      <th></th>\n",
       "      <th></th>\n",
       "    </tr>\n",
       "  </thead>\n",
       "  <tbody>\n",
       "    <tr>\n",
       "      <td>1</td>\n",
       "      <td>2016-06-22</td>\n",
       "      <td>2016-06-27 00:00:00.000000000</td>\n",
       "      <td>643</td>\n",
       "      <td>m</td>\n",
       "      <td>navy</td>\n",
       "      <td>30</td>\n",
       "      <td>49.90</td>\n",
       "      <td>30822</td>\n",
       "      <td>Mrs</td>\n",
       "      <td>2069-04-17 00:00:00.000000000</td>\n",
       "      <td>Saxony</td>\n",
       "      <td>2016-06-23</td>\n",
       "      <td>0</td>\n",
       "      <td>5</td>\n",
       "    </tr>\n",
       "    <tr>\n",
       "      <td>2</td>\n",
       "      <td>2016-06-22</td>\n",
       "      <td>2016-04-07 10:44:13.333464832</td>\n",
       "      <td>337</td>\n",
       "      <td>l</td>\n",
       "      <td>grey</td>\n",
       "      <td>30</td>\n",
       "      <td>19.95</td>\n",
       "      <td>30822</td>\n",
       "      <td>Mrs</td>\n",
       "      <td>2069-04-17 00:00:00.000000000</td>\n",
       "      <td>Saxony</td>\n",
       "      <td>2016-06-23</td>\n",
       "      <td>0</td>\n",
       "      <td>0</td>\n",
       "    </tr>\n",
       "    <tr>\n",
       "      <td>3</td>\n",
       "      <td>2016-06-22</td>\n",
       "      <td>2016-06-27 00:00:00.000000000</td>\n",
       "      <td>270</td>\n",
       "      <td>xl</td>\n",
       "      <td>grey</td>\n",
       "      <td>49</td>\n",
       "      <td>79.90</td>\n",
       "      <td>30823</td>\n",
       "      <td>Mrs</td>\n",
       "      <td>2070-04-22 00:00:00.000000000</td>\n",
       "      <td>Baden-Wuerttemberg</td>\n",
       "      <td>2015-03-15</td>\n",
       "      <td>1</td>\n",
       "      <td>5</td>\n",
       "    </tr>\n",
       "    <tr>\n",
       "      <td>4</td>\n",
       "      <td>2016-06-22</td>\n",
       "      <td>2016-06-27 00:00:00.000000000</td>\n",
       "      <td>142</td>\n",
       "      <td>xl</td>\n",
       "      <td>grey</td>\n",
       "      <td>49</td>\n",
       "      <td>99.90</td>\n",
       "      <td>30823</td>\n",
       "      <td>Mrs</td>\n",
       "      <td>2070-04-22 00:00:00.000000000</td>\n",
       "      <td>Baden-Wuerttemberg</td>\n",
       "      <td>2015-03-15</td>\n",
       "      <td>0</td>\n",
       "      <td>5</td>\n",
       "    </tr>\n",
       "    <tr>\n",
       "      <td>5</td>\n",
       "      <td>2016-06-22</td>\n",
       "      <td>2016-06-27 00:00:00.000000000</td>\n",
       "      <td>561</td>\n",
       "      <td>xl</td>\n",
       "      <td>grey</td>\n",
       "      <td>3</td>\n",
       "      <td>14.90</td>\n",
       "      <td>30823</td>\n",
       "      <td>Mrs</td>\n",
       "      <td>2070-04-22 00:00:00.000000000</td>\n",
       "      <td>Baden-Wuerttemberg</td>\n",
       "      <td>2015-03-15</td>\n",
       "      <td>1</td>\n",
       "      <td>5</td>\n",
       "    </tr>\n",
       "    <tr>\n",
       "      <td>...</td>\n",
       "      <td>...</td>\n",
       "      <td>...</td>\n",
       "      <td>...</td>\n",
       "      <td>...</td>\n",
       "      <td>...</td>\n",
       "      <td>...</td>\n",
       "      <td>...</td>\n",
       "      <td>...</td>\n",
       "      <td>...</td>\n",
       "      <td>...</td>\n",
       "      <td>...</td>\n",
       "      <td>...</td>\n",
       "      <td>...</td>\n",
       "      <td>...</td>\n",
       "    </tr>\n",
       "    <tr>\n",
       "      <td>99996</td>\n",
       "      <td>2016-11-09</td>\n",
       "      <td>2016-12-09 00:00:00.000000000</td>\n",
       "      <td>156</td>\n",
       "      <td>xs</td>\n",
       "      <td>blue</td>\n",
       "      <td>34</td>\n",
       "      <td>29.90</td>\n",
       "      <td>713</td>\n",
       "      <td>Mrs</td>\n",
       "      <td>2059-03-21 00:00:00.000000000</td>\n",
       "      <td>Rhineland-Palatinate</td>\n",
       "      <td>2015-02-17</td>\n",
       "      <td>0</td>\n",
       "      <td>30</td>\n",
       "    </tr>\n",
       "    <tr>\n",
       "      <td>99997</td>\n",
       "      <td>2016-11-09</td>\n",
       "      <td>2016-12-09 00:00:00.000000000</td>\n",
       "      <td>156</td>\n",
       "      <td>xs</td>\n",
       "      <td>brown</td>\n",
       "      <td>34</td>\n",
       "      <td>29.90</td>\n",
       "      <td>713</td>\n",
       "      <td>Mrs</td>\n",
       "      <td>2059-03-21 00:00:00.000000000</td>\n",
       "      <td>Rhineland-Palatinate</td>\n",
       "      <td>2015-02-17</td>\n",
       "      <td>0</td>\n",
       "      <td>30</td>\n",
       "    </tr>\n",
       "    <tr>\n",
       "      <td>99998</td>\n",
       "      <td>2016-11-09</td>\n",
       "      <td>2015-09-17 02:50:33.333662208</td>\n",
       "      <td>1832</td>\n",
       "      <td>xl</td>\n",
       "      <td>black</td>\n",
       "      <td>37</td>\n",
       "      <td>26.90</td>\n",
       "      <td>47794</td>\n",
       "      <td>Mr</td>\n",
       "      <td>2005-11-15 06:01:14.544074880</td>\n",
       "      <td>Hamburg</td>\n",
       "      <td>2016-10-09</td>\n",
       "      <td>0</td>\n",
       "      <td>0</td>\n",
       "    </tr>\n",
       "    <tr>\n",
       "      <td>99999</td>\n",
       "      <td>2016-11-09</td>\n",
       "      <td>2015-09-17 02:50:33.333662208</td>\n",
       "      <td>1832</td>\n",
       "      <td>xl</td>\n",
       "      <td>black</td>\n",
       "      <td>37</td>\n",
       "      <td>26.90</td>\n",
       "      <td>47794</td>\n",
       "      <td>Mr</td>\n",
       "      <td>2005-11-15 06:01:14.544074880</td>\n",
       "      <td>Hamburg</td>\n",
       "      <td>2016-10-09</td>\n",
       "      <td>0</td>\n",
       "      <td>0</td>\n",
       "    </tr>\n",
       "    <tr>\n",
       "      <td>100000</td>\n",
       "      <td>2016-11-09</td>\n",
       "      <td>2016-08-10 00:00:00.000000000</td>\n",
       "      <td>1891</td>\n",
       "      <td>s</td>\n",
       "      <td>fuchsia</td>\n",
       "      <td>47</td>\n",
       "      <td>27.90</td>\n",
       "      <td>2622</td>\n",
       "      <td>Mrs</td>\n",
       "      <td>2005-11-15 06:01:14.544074880</td>\n",
       "      <td>Lower Saxony</td>\n",
       "      <td>2015-02-17</td>\n",
       "      <td>0</td>\n",
       "      <td>0</td>\n",
       "    </tr>\n",
       "  </tbody>\n",
       "</table>\n",
       "<p>100000 rows × 14 columns</p>\n",
       "</div>"
      ],
      "text/plain": [
       "              order_date                 delivery_date item_id item_size  \\\n",
       "order_item_id                                                              \n",
       "1             2016-06-22 2016-06-27 00:00:00.000000000     643         m   \n",
       "2             2016-06-22 2016-04-07 10:44:13.333464832     337         l   \n",
       "3             2016-06-22 2016-06-27 00:00:00.000000000     270        xl   \n",
       "4             2016-06-22 2016-06-27 00:00:00.000000000     142        xl   \n",
       "5             2016-06-22 2016-06-27 00:00:00.000000000     561        xl   \n",
       "...                  ...                           ...     ...       ...   \n",
       "99996         2016-11-09 2016-12-09 00:00:00.000000000     156        xs   \n",
       "99997         2016-11-09 2016-12-09 00:00:00.000000000     156        xs   \n",
       "99998         2016-11-09 2015-09-17 02:50:33.333662208    1832        xl   \n",
       "99999         2016-11-09 2015-09-17 02:50:33.333662208    1832        xl   \n",
       "100000        2016-11-09 2016-08-10 00:00:00.000000000    1891         s   \n",
       "\n",
       "              item_color brand_id  item_price user_id user_title  \\\n",
       "order_item_id                                                      \n",
       "1                   navy       30       49.90   30822        Mrs   \n",
       "2                   grey       30       19.95   30822        Mrs   \n",
       "3                   grey       49       79.90   30823        Mrs   \n",
       "4                   grey       49       99.90   30823        Mrs   \n",
       "5                   grey        3       14.90   30823        Mrs   \n",
       "...                  ...      ...         ...     ...        ...   \n",
       "99996               blue       34       29.90     713        Mrs   \n",
       "99997              brown       34       29.90     713        Mrs   \n",
       "99998              black       37       26.90   47794         Mr   \n",
       "99999              black       37       26.90   47794         Mr   \n",
       "100000           fuchsia       47       27.90    2622        Mrs   \n",
       "\n",
       "                                   user_dob            user_state  \\\n",
       "order_item_id                                                       \n",
       "1             2069-04-17 00:00:00.000000000                Saxony   \n",
       "2             2069-04-17 00:00:00.000000000                Saxony   \n",
       "3             2070-04-22 00:00:00.000000000    Baden-Wuerttemberg   \n",
       "4             2070-04-22 00:00:00.000000000    Baden-Wuerttemberg   \n",
       "5             2070-04-22 00:00:00.000000000    Baden-Wuerttemberg   \n",
       "...                                     ...                   ...   \n",
       "99996         2059-03-21 00:00:00.000000000  Rhineland-Palatinate   \n",
       "99997         2059-03-21 00:00:00.000000000  Rhineland-Palatinate   \n",
       "99998         2005-11-15 06:01:14.544074880               Hamburg   \n",
       "99999         2005-11-15 06:01:14.544074880               Hamburg   \n",
       "100000        2005-11-15 06:01:14.544074880          Lower Saxony   \n",
       "\n",
       "              user_reg_date  return  delivery_duration  \n",
       "order_item_id                                           \n",
       "1                2016-06-23       0                  5  \n",
       "2                2016-06-23       0                  0  \n",
       "3                2015-03-15       1                  5  \n",
       "4                2015-03-15       0                  5  \n",
       "5                2015-03-15       1                  5  \n",
       "...                     ...     ...                ...  \n",
       "99996            2015-02-17       0                 30  \n",
       "99997            2015-02-17       0                 30  \n",
       "99998            2016-10-09       0                  0  \n",
       "99999            2016-10-09       0                  0  \n",
       "100000           2015-02-17       0                  0  \n",
       "\n",
       "[100000 rows x 14 columns]"
      ]
     },
     "execution_count": 35,
     "metadata": {},
     "output_type": "execute_result"
    }
   ],
   "source": [
    "df_known_2"
   ]
  },
  {
   "cell_type": "markdown",
   "metadata": {},
   "source": [
    "#### user_age"
   ]
  },
  {
   "cell_type": "code",
   "execution_count": 36,
   "metadata": {},
   "outputs": [
    {
     "data": {
      "text/plain": [
       "datetime.date(2021, 4, 30)"
      ]
     },
     "execution_count": 36,
     "metadata": {},
     "output_type": "execute_result"
    }
   ],
   "source": [
    "from datetime import date\n",
    "today = date.today()\n",
    "today"
   ]
  },
  {
   "cell_type": "code",
   "execution_count": 37,
   "metadata": {},
   "outputs": [
    {
     "data": {
      "text/plain": [
       "order_item_id\n",
       "1        1969-04-17 00:00:00.000000000\n",
       "2        1969-04-17 00:00:00.000000000\n",
       "3        1970-04-22 00:00:00.000000000\n",
       "4        1970-04-22 00:00:00.000000000\n",
       "5        1970-04-22 00:00:00.000000000\n",
       "                      ...             \n",
       "99996    1959-03-21 00:00:00.000000000\n",
       "99997    1959-03-21 00:00:00.000000000\n",
       "99998    1905-11-15 06:01:14.544074880\n",
       "99999    1905-11-15 06:01:14.544074880\n",
       "100000   1905-11-15 06:01:14.544074880\n",
       "Name: user_dob, Length: 100000, dtype: datetime64[ns]"
      ]
     },
     "execution_count": 37,
     "metadata": {},
     "output_type": "execute_result"
    }
   ],
   "source": [
    "df_known_2['user_dob'] = df_known_2['user_dob'] - pd.DateOffset(years=100)\n",
    "\n",
    "df_known_2['user_dob']"
   ]
  },
  {
   "cell_type": "code",
   "execution_count": 38,
   "metadata": {},
   "outputs": [
    {
     "data": {
      "text/plain": [
       "order_item_id\n",
       "1        19006 days 20:50:36.734200\n",
       "2        19006 days 20:50:36.734200\n",
       "3        18636 days 20:50:36.734200\n",
       "4        18636 days 20:50:36.734200\n",
       "5        18636 days 20:50:36.734200\n",
       "                    ...            \n",
       "99996    22686 days 20:50:36.734200\n",
       "99997    22686 days 20:50:36.734200\n",
       "99998    42170 days 14:49:22.190125\n",
       "99999    42170 days 14:49:22.190125\n",
       "100000   42170 days 14:49:22.190125\n",
       "Name: user_dob, Length: 100000, dtype: timedelta64[ns]"
      ]
     },
     "execution_count": 38,
     "metadata": {},
     "output_type": "execute_result"
    }
   ],
   "source": [
    "user_age = pd.Timestamp.now() - df_known_2[\"user_dob\"]\n",
    "user_age"
   ]
  },
  {
   "cell_type": "code",
   "execution_count": 39,
   "metadata": {},
   "outputs": [],
   "source": [
    "# assign to dataframe\n",
    "df_known_2[\"user_age\"] = user_age"
   ]
  },
  {
   "cell_type": "markdown",
   "metadata": {},
   "source": [
    "### 3.6. Feature normalization"
   ]
  },
  {
   "cell_type": "code",
   "execution_count": 40,
   "metadata": {},
   "outputs": [],
   "source": [
    "from sklearn.preprocessing import MinMaxScaler"
   ]
  },
  {
   "cell_type": "code",
   "execution_count": 41,
   "metadata": {},
   "outputs": [],
   "source": [
    "# convert to numpy array in order to normalize\n",
    "order_date = df_known_2[\"order_date\"].to_numpy().reshape(-1,1)\n",
    "delivery_date = df_known_2[\"delivery_date\"].to_numpy().reshape(-1,1)\n",
    "item_price = df_known_2[\"item_price\"].to_numpy().reshape(-1,1)\n",
    "user_dob = df_known_2[\"user_dob\"].to_numpy().reshape(-1,1)\n",
    "user_reg_date = df_known_2[\"user_reg_date\"].to_numpy().reshape(-1,1)\n",
    "delivery_duration = df_known_2[\"delivery_duration\"].to_numpy().reshape(-1,1)\n",
    "user_age = df_known_2[\"user_age\"].to_numpy().reshape(-1,1)"
   ]
  },
  {
   "cell_type": "code",
   "execution_count": 42,
   "metadata": {},
   "outputs": [],
   "source": [
    "# create a blank dict to enter the scaler objects\n",
    "scalers = {}"
   ]
  },
  {
   "cell_type": "code",
   "execution_count": 43,
   "metadata": {},
   "outputs": [],
   "source": [
    "# function to create the scaler objects\n",
    "def normalize(attr):\n",
    "    scaler = MinMaxScaler(copy = False)\n",
    "    scaler.fit(attr)\n",
    "    attr_new = scaler.transform(attr)\n",
    "    return scaler, attr_new"
   ]
  },
  {
   "cell_type": "code",
   "execution_count": 44,
   "metadata": {},
   "outputs": [
    {
     "data": {
      "text/plain": [
       "{'order_date': MinMaxScaler(copy=False, feature_range=(0, 1)),\n",
       " 'delivery_date': MinMaxScaler(copy=False, feature_range=(0, 1)),\n",
       " 'item_price': MinMaxScaler(copy=False, feature_range=(0, 1)),\n",
       " 'user_dob': MinMaxScaler(copy=False, feature_range=(0, 1)),\n",
       " 'user_reg_date': MinMaxScaler(copy=False, feature_range=(0, 1)),\n",
       " 'delivery_duration': MinMaxScaler(copy=False, feature_range=(0, 1)),\n",
       " 'user_age': MinMaxScaler(copy=False, feature_range=(0, 1))}"
      ]
     },
     "execution_count": 44,
     "metadata": {},
     "output_type": "execute_result"
    }
   ],
   "source": [
    "scalers[\"order_date\"], order_date = normalize(order_date)\n",
    "scalers[\"delivery_date\"], delivery_date = normalize(delivery_date)\n",
    "scalers[\"item_price\"], item_price = normalize(item_price)\n",
    "scalers[\"user_dob\"], user_dob = normalize(user_dob)\n",
    "scalers[\"user_reg_date\"], user_reg_date = normalize(user_reg_date)\n",
    "scalers[\"delivery_duration\"], delivery_duration = normalize(delivery_duration)\n",
    "scalers[\"user_age\"], user_age = normalize(user_age)\n",
    "\n",
    "scalers"
   ]
  },
  {
   "cell_type": "code",
   "execution_count": 45,
   "metadata": {},
   "outputs": [
    {
     "data": {
      "text/html": [
       "<div>\n",
       "<style scoped>\n",
       "    .dataframe tbody tr th:only-of-type {\n",
       "        vertical-align: middle;\n",
       "    }\n",
       "\n",
       "    .dataframe tbody tr th {\n",
       "        vertical-align: top;\n",
       "    }\n",
       "\n",
       "    .dataframe thead th {\n",
       "        text-align: right;\n",
       "    }\n",
       "</style>\n",
       "<table border=\"1\" class=\"dataframe\">\n",
       "  <thead>\n",
       "    <tr style=\"text-align: right;\">\n",
       "      <th></th>\n",
       "      <th>order_date</th>\n",
       "      <th>delivery_date</th>\n",
       "      <th>item_id</th>\n",
       "      <th>item_size</th>\n",
       "      <th>item_color</th>\n",
       "      <th>brand_id</th>\n",
       "      <th>item_price</th>\n",
       "      <th>user_id</th>\n",
       "      <th>user_title</th>\n",
       "      <th>user_dob</th>\n",
       "      <th>...</th>\n",
       "      <th>return</th>\n",
       "      <th>delivery_duration</th>\n",
       "      <th>user_age</th>\n",
       "      <th>order_date_norm</th>\n",
       "      <th>delivery_date_norm</th>\n",
       "      <th>item_price_norm</th>\n",
       "      <th>user_dob_norm</th>\n",
       "      <th>user_reg_date_norm</th>\n",
       "      <th>delivery_duration_norm</th>\n",
       "      <th>user_age_norm</th>\n",
       "    </tr>\n",
       "    <tr>\n",
       "      <th>order_item_id</th>\n",
       "      <th></th>\n",
       "      <th></th>\n",
       "      <th></th>\n",
       "      <th></th>\n",
       "      <th></th>\n",
       "      <th></th>\n",
       "      <th></th>\n",
       "      <th></th>\n",
       "      <th></th>\n",
       "      <th></th>\n",
       "      <th></th>\n",
       "      <th></th>\n",
       "      <th></th>\n",
       "      <th></th>\n",
       "      <th></th>\n",
       "      <th></th>\n",
       "      <th></th>\n",
       "      <th></th>\n",
       "      <th></th>\n",
       "      <th></th>\n",
       "      <th></th>\n",
       "    </tr>\n",
       "  </thead>\n",
       "  <tbody>\n",
       "    <tr>\n",
       "      <td>1</td>\n",
       "      <td>2016-06-22</td>\n",
       "      <td>2016-06-27 00:00:00.000000000</td>\n",
       "      <td>643</td>\n",
       "      <td>m</td>\n",
       "      <td>navy</td>\n",
       "      <td>30</td>\n",
       "      <td>0.049950</td>\n",
       "      <td>30822</td>\n",
       "      <td>Mrs</td>\n",
       "      <td>1969-04-17 00:00:00.000000000</td>\n",
       "      <td>...</td>\n",
       "      <td>0</td>\n",
       "      <td>5</td>\n",
       "      <td>19006 days 20:50:36.734200</td>\n",
       "      <td>0.422945</td>\n",
       "      <td>0.573635</td>\n",
       "      <td>0.049950</td>\n",
       "      <td>0.973809</td>\n",
       "      <td>0.760623</td>\n",
       "      <td>0.030864</td>\n",
       "      <td>0.026191</td>\n",
       "    </tr>\n",
       "    <tr>\n",
       "      <td>2</td>\n",
       "      <td>2016-06-22</td>\n",
       "      <td>2016-04-07 10:44:13.333464832</td>\n",
       "      <td>337</td>\n",
       "      <td>l</td>\n",
       "      <td>grey</td>\n",
       "      <td>30</td>\n",
       "      <td>0.019970</td>\n",
       "      <td>30822</td>\n",
       "      <td>Mrs</td>\n",
       "      <td>1969-04-17 00:00:00.000000000</td>\n",
       "      <td>...</td>\n",
       "      <td>0</td>\n",
       "      <td>0</td>\n",
       "      <td>19006 days 20:50:36.734200</td>\n",
       "      <td>0.422945</td>\n",
       "      <td>0.410864</td>\n",
       "      <td>0.019970</td>\n",
       "      <td>0.973809</td>\n",
       "      <td>0.760623</td>\n",
       "      <td>0.000000</td>\n",
       "      <td>0.026191</td>\n",
       "    </tr>\n",
       "    <tr>\n",
       "      <td>3</td>\n",
       "      <td>2016-06-22</td>\n",
       "      <td>2016-06-27 00:00:00.000000000</td>\n",
       "      <td>270</td>\n",
       "      <td>xl</td>\n",
       "      <td>grey</td>\n",
       "      <td>49</td>\n",
       "      <td>0.079980</td>\n",
       "      <td>30823</td>\n",
       "      <td>Mrs</td>\n",
       "      <td>1970-04-22 00:00:00.000000000</td>\n",
       "      <td>...</td>\n",
       "      <td>1</td>\n",
       "      <td>5</td>\n",
       "      <td>18636 days 20:50:36.734200</td>\n",
       "      <td>0.422945</td>\n",
       "      <td>0.573635</td>\n",
       "      <td>0.079980</td>\n",
       "      <td>0.989364</td>\n",
       "      <td>0.100567</td>\n",
       "      <td>0.030864</td>\n",
       "      <td>0.010636</td>\n",
       "    </tr>\n",
       "    <tr>\n",
       "      <td>4</td>\n",
       "      <td>2016-06-22</td>\n",
       "      <td>2016-06-27 00:00:00.000000000</td>\n",
       "      <td>142</td>\n",
       "      <td>xl</td>\n",
       "      <td>grey</td>\n",
       "      <td>49</td>\n",
       "      <td>0.100000</td>\n",
       "      <td>30823</td>\n",
       "      <td>Mrs</td>\n",
       "      <td>1970-04-22 00:00:00.000000000</td>\n",
       "      <td>...</td>\n",
       "      <td>0</td>\n",
       "      <td>5</td>\n",
       "      <td>18636 days 20:50:36.734200</td>\n",
       "      <td>0.422945</td>\n",
       "      <td>0.573635</td>\n",
       "      <td>0.100000</td>\n",
       "      <td>0.989364</td>\n",
       "      <td>0.100567</td>\n",
       "      <td>0.030864</td>\n",
       "      <td>0.010636</td>\n",
       "    </tr>\n",
       "    <tr>\n",
       "      <td>5</td>\n",
       "      <td>2016-06-22</td>\n",
       "      <td>2016-06-27 00:00:00.000000000</td>\n",
       "      <td>561</td>\n",
       "      <td>xl</td>\n",
       "      <td>grey</td>\n",
       "      <td>3</td>\n",
       "      <td>0.014915</td>\n",
       "      <td>30823</td>\n",
       "      <td>Mrs</td>\n",
       "      <td>1970-04-22 00:00:00.000000000</td>\n",
       "      <td>...</td>\n",
       "      <td>1</td>\n",
       "      <td>5</td>\n",
       "      <td>18636 days 20:50:36.734200</td>\n",
       "      <td>0.422945</td>\n",
       "      <td>0.573635</td>\n",
       "      <td>0.014915</td>\n",
       "      <td>0.989364</td>\n",
       "      <td>0.100567</td>\n",
       "      <td>0.030864</td>\n",
       "      <td>0.010636</td>\n",
       "    </tr>\n",
       "    <tr>\n",
       "      <td>...</td>\n",
       "      <td>...</td>\n",
       "      <td>...</td>\n",
       "      <td>...</td>\n",
       "      <td>...</td>\n",
       "      <td>...</td>\n",
       "      <td>...</td>\n",
       "      <td>...</td>\n",
       "      <td>...</td>\n",
       "      <td>...</td>\n",
       "      <td>...</td>\n",
       "      <td>...</td>\n",
       "      <td>...</td>\n",
       "      <td>...</td>\n",
       "      <td>...</td>\n",
       "      <td>...</td>\n",
       "      <td>...</td>\n",
       "      <td>...</td>\n",
       "      <td>...</td>\n",
       "      <td>...</td>\n",
       "      <td>...</td>\n",
       "      <td>...</td>\n",
       "    </tr>\n",
       "    <tr>\n",
       "      <td>99996</td>\n",
       "      <td>2016-11-09</td>\n",
       "      <td>2016-12-09 00:00:00.000000000</td>\n",
       "      <td>156</td>\n",
       "      <td>xs</td>\n",
       "      <td>blue</td>\n",
       "      <td>34</td>\n",
       "      <td>0.029930</td>\n",
       "      <td>713</td>\n",
       "      <td>Mrs</td>\n",
       "      <td>1959-03-21 00:00:00.000000000</td>\n",
       "      <td>...</td>\n",
       "      <td>0</td>\n",
       "      <td>30</td>\n",
       "      <td>22686 days 20:50:36.734200</td>\n",
       "      <td>0.902397</td>\n",
       "      <td>0.907048</td>\n",
       "      <td>0.029930</td>\n",
       "      <td>0.819101</td>\n",
       "      <td>0.063739</td>\n",
       "      <td>0.185185</td>\n",
       "      <td>0.180899</td>\n",
       "    </tr>\n",
       "    <tr>\n",
       "      <td>99997</td>\n",
       "      <td>2016-11-09</td>\n",
       "      <td>2016-12-09 00:00:00.000000000</td>\n",
       "      <td>156</td>\n",
       "      <td>xs</td>\n",
       "      <td>brown</td>\n",
       "      <td>34</td>\n",
       "      <td>0.029930</td>\n",
       "      <td>713</td>\n",
       "      <td>Mrs</td>\n",
       "      <td>1959-03-21 00:00:00.000000000</td>\n",
       "      <td>...</td>\n",
       "      <td>0</td>\n",
       "      <td>30</td>\n",
       "      <td>22686 days 20:50:36.734200</td>\n",
       "      <td>0.902397</td>\n",
       "      <td>0.907048</td>\n",
       "      <td>0.029930</td>\n",
       "      <td>0.819101</td>\n",
       "      <td>0.063739</td>\n",
       "      <td>0.185185</td>\n",
       "      <td>0.180899</td>\n",
       "    </tr>\n",
       "    <tr>\n",
       "      <td>99998</td>\n",
       "      <td>2016-11-09</td>\n",
       "      <td>2015-09-17 02:50:33.333662208</td>\n",
       "      <td>1832</td>\n",
       "      <td>xl</td>\n",
       "      <td>black</td>\n",
       "      <td>37</td>\n",
       "      <td>0.026927</td>\n",
       "      <td>47794</td>\n",
       "      <td>Mr</td>\n",
       "      <td>1905-11-15 06:01:14.544074880</td>\n",
       "      <td>...</td>\n",
       "      <td>0</td>\n",
       "      <td>0</td>\n",
       "      <td>42170 days 14:49:22.190125</td>\n",
       "      <td>0.902397</td>\n",
       "      <td>0.000000</td>\n",
       "      <td>0.026927</td>\n",
       "      <td>0.000000</td>\n",
       "      <td>0.913598</td>\n",
       "      <td>0.000000</td>\n",
       "      <td>1.000000</td>\n",
       "    </tr>\n",
       "    <tr>\n",
       "      <td>99999</td>\n",
       "      <td>2016-11-09</td>\n",
       "      <td>2015-09-17 02:50:33.333662208</td>\n",
       "      <td>1832</td>\n",
       "      <td>xl</td>\n",
       "      <td>black</td>\n",
       "      <td>37</td>\n",
       "      <td>0.026927</td>\n",
       "      <td>47794</td>\n",
       "      <td>Mr</td>\n",
       "      <td>1905-11-15 06:01:14.544074880</td>\n",
       "      <td>...</td>\n",
       "      <td>0</td>\n",
       "      <td>0</td>\n",
       "      <td>42170 days 14:49:22.190125</td>\n",
       "      <td>0.902397</td>\n",
       "      <td>0.000000</td>\n",
       "      <td>0.026927</td>\n",
       "      <td>0.000000</td>\n",
       "      <td>0.913598</td>\n",
       "      <td>0.000000</td>\n",
       "      <td>1.000000</td>\n",
       "    </tr>\n",
       "    <tr>\n",
       "      <td>100000</td>\n",
       "      <td>2016-11-09</td>\n",
       "      <td>2016-08-10 00:00:00.000000000</td>\n",
       "      <td>1891</td>\n",
       "      <td>s</td>\n",
       "      <td>fuchsia</td>\n",
       "      <td>47</td>\n",
       "      <td>0.027928</td>\n",
       "      <td>2622</td>\n",
       "      <td>Mrs</td>\n",
       "      <td>1905-11-15 06:01:14.544074880</td>\n",
       "      <td>...</td>\n",
       "      <td>0</td>\n",
       "      <td>0</td>\n",
       "      <td>42170 days 14:49:22.190125</td>\n",
       "      <td>0.902397</td>\n",
       "      <td>0.662546</td>\n",
       "      <td>0.027928</td>\n",
       "      <td>0.000000</td>\n",
       "      <td>0.063739</td>\n",
       "      <td>0.000000</td>\n",
       "      <td>1.000000</td>\n",
       "    </tr>\n",
       "  </tbody>\n",
       "</table>\n",
       "<p>100000 rows × 22 columns</p>\n",
       "</div>"
      ],
      "text/plain": [
       "              order_date                 delivery_date item_id item_size  \\\n",
       "order_item_id                                                              \n",
       "1             2016-06-22 2016-06-27 00:00:00.000000000     643         m   \n",
       "2             2016-06-22 2016-04-07 10:44:13.333464832     337         l   \n",
       "3             2016-06-22 2016-06-27 00:00:00.000000000     270        xl   \n",
       "4             2016-06-22 2016-06-27 00:00:00.000000000     142        xl   \n",
       "5             2016-06-22 2016-06-27 00:00:00.000000000     561        xl   \n",
       "...                  ...                           ...     ...       ...   \n",
       "99996         2016-11-09 2016-12-09 00:00:00.000000000     156        xs   \n",
       "99997         2016-11-09 2016-12-09 00:00:00.000000000     156        xs   \n",
       "99998         2016-11-09 2015-09-17 02:50:33.333662208    1832        xl   \n",
       "99999         2016-11-09 2015-09-17 02:50:33.333662208    1832        xl   \n",
       "100000        2016-11-09 2016-08-10 00:00:00.000000000    1891         s   \n",
       "\n",
       "              item_color brand_id  item_price user_id user_title  \\\n",
       "order_item_id                                                      \n",
       "1                   navy       30    0.049950   30822        Mrs   \n",
       "2                   grey       30    0.019970   30822        Mrs   \n",
       "3                   grey       49    0.079980   30823        Mrs   \n",
       "4                   grey       49    0.100000   30823        Mrs   \n",
       "5                   grey        3    0.014915   30823        Mrs   \n",
       "...                  ...      ...         ...     ...        ...   \n",
       "99996               blue       34    0.029930     713        Mrs   \n",
       "99997              brown       34    0.029930     713        Mrs   \n",
       "99998              black       37    0.026927   47794         Mr   \n",
       "99999              black       37    0.026927   47794         Mr   \n",
       "100000           fuchsia       47    0.027928    2622        Mrs   \n",
       "\n",
       "                                   user_dob  ... return delivery_duration  \\\n",
       "order_item_id                                ...                            \n",
       "1             1969-04-17 00:00:00.000000000  ...      0                 5   \n",
       "2             1969-04-17 00:00:00.000000000  ...      0                 0   \n",
       "3             1970-04-22 00:00:00.000000000  ...      1                 5   \n",
       "4             1970-04-22 00:00:00.000000000  ...      0                 5   \n",
       "5             1970-04-22 00:00:00.000000000  ...      1                 5   \n",
       "...                                     ...  ...    ...               ...   \n",
       "99996         1959-03-21 00:00:00.000000000  ...      0                30   \n",
       "99997         1959-03-21 00:00:00.000000000  ...      0                30   \n",
       "99998         1905-11-15 06:01:14.544074880  ...      0                 0   \n",
       "99999         1905-11-15 06:01:14.544074880  ...      0                 0   \n",
       "100000        1905-11-15 06:01:14.544074880  ...      0                 0   \n",
       "\n",
       "                                user_age  order_date_norm delivery_date_norm  \\\n",
       "order_item_id                                                                  \n",
       "1             19006 days 20:50:36.734200         0.422945           0.573635   \n",
       "2             19006 days 20:50:36.734200         0.422945           0.410864   \n",
       "3             18636 days 20:50:36.734200         0.422945           0.573635   \n",
       "4             18636 days 20:50:36.734200         0.422945           0.573635   \n",
       "5             18636 days 20:50:36.734200         0.422945           0.573635   \n",
       "...                                  ...              ...                ...   \n",
       "99996         22686 days 20:50:36.734200         0.902397           0.907048   \n",
       "99997         22686 days 20:50:36.734200         0.902397           0.907048   \n",
       "99998         42170 days 14:49:22.190125         0.902397           0.000000   \n",
       "99999         42170 days 14:49:22.190125         0.902397           0.000000   \n",
       "100000        42170 days 14:49:22.190125         0.902397           0.662546   \n",
       "\n",
       "               item_price_norm  user_dob_norm  user_reg_date_norm  \\\n",
       "order_item_id                                                       \n",
       "1                     0.049950       0.973809            0.760623   \n",
       "2                     0.019970       0.973809            0.760623   \n",
       "3                     0.079980       0.989364            0.100567   \n",
       "4                     0.100000       0.989364            0.100567   \n",
       "5                     0.014915       0.989364            0.100567   \n",
       "...                        ...            ...                 ...   \n",
       "99996                 0.029930       0.819101            0.063739   \n",
       "99997                 0.029930       0.819101            0.063739   \n",
       "99998                 0.026927       0.000000            0.913598   \n",
       "99999                 0.026927       0.000000            0.913598   \n",
       "100000                0.027928       0.000000            0.063739   \n",
       "\n",
       "               delivery_duration_norm  user_age_norm  \n",
       "order_item_id                                         \n",
       "1                            0.030864       0.026191  \n",
       "2                            0.000000       0.026191  \n",
       "3                            0.030864       0.010636  \n",
       "4                            0.030864       0.010636  \n",
       "5                            0.030864       0.010636  \n",
       "...                               ...            ...  \n",
       "99996                        0.185185       0.180899  \n",
       "99997                        0.185185       0.180899  \n",
       "99998                        0.000000       1.000000  \n",
       "99999                        0.000000       1.000000  \n",
       "100000                       0.000000       1.000000  \n",
       "\n",
       "[100000 rows x 22 columns]"
      ]
     },
     "execution_count": 45,
     "metadata": {},
     "output_type": "execute_result"
    }
   ],
   "source": [
    "# assign the normalized columns to new columns in the dataset\n",
    "df_known_2[\"order_date_norm\"] = order_date\n",
    "df_known_2[\"delivery_date_norm\"] = delivery_date\n",
    "df_known_2[\"item_price_norm\"] = item_price\n",
    "df_known_2[\"user_dob_norm\"] = user_dob\n",
    "df_known_2[\"user_reg_date_norm\"] = user_reg_date\n",
    "df_known_2[\"delivery_duration_norm\"] = delivery_duration\n",
    "df_known_2[\"user_age_norm\"] = user_age\n",
    "\n",
    "df_known_2"
   ]
  },
  {
   "cell_type": "markdown",
   "metadata": {},
   "source": [
    "### 3.7 Category encoding (One-hot encoding)"
   ]
  },
  {
   "cell_type": "markdown",
   "metadata": {},
   "source": [
    "Onehot encoder module for categorical values. To be applied for \n",
    "- user_title\n",
    "- item_color\n",
    "- user_state\n",
    "- brand_id"
   ]
  },
  {
   "cell_type": "code",
   "execution_count": 46,
   "metadata": {},
   "outputs": [],
   "source": [
    "from sklearn.preprocessing import OneHotEncoder"
   ]
  },
  {
   "cell_type": "code",
   "execution_count": 47,
   "metadata": {},
   "outputs": [],
   "source": [
    "# creating function to use the module\n",
    "\n",
    "def ohe(col):\n",
    "    \"\"\" One hot encoder function\n",
    "    col = column name string\n",
    "    \n",
    "    returns multidim array\n",
    "    \"\"\"\n",
    "    enc = OneHotEncoder(handle_unknown = \"ignore\")\n",
    "    col = df_known_2[col].to_numpy().reshape(-1,1)\n",
    "    enc.fit(col)\n",
    "    return enc.transform(col).toarray()"
   ]
  },
  {
   "cell_type": "code",
   "execution_count": 48,
   "metadata": {},
   "outputs": [
    {
     "name": "stdout",
     "output_type": "stream",
     "text": [
      "[[0. 0. 0. 1. 0.]\n",
      " [0. 0. 0. 1. 0.]\n",
      " [0. 0. 0. 1. 0.]\n",
      " ...\n",
      " [0. 0. 1. 0. 0.]\n",
      " [0. 0. 1. 0. 0.]\n",
      " [0. 0. 0. 1. 0.]]\n",
      "\n",
      "(100000, 5)\n"
     ]
    }
   ],
   "source": [
    "# user_title\n",
    "\n",
    "user_title_ohe = ohe(\"user_title\")\n",
    "print(user_title_ohe, user_title_ohe.shape, sep = \"\\n\\n\")"
   ]
  },
  {
   "cell_type": "code",
   "execution_count": 49,
   "metadata": {},
   "outputs": [
    {
     "name": "stdout",
     "output_type": "stream",
     "text": [
      "[[0. 0. 0. ... 0. 0. 0.]\n",
      " [0. 0. 0. ... 0. 0. 0.]\n",
      " [1. 0. 0. ... 0. 0. 0.]\n",
      " ...\n",
      " [0. 0. 0. ... 0. 0. 0.]\n",
      " [0. 0. 0. ... 0. 0. 0.]\n",
      " [0. 0. 0. ... 0. 0. 0.]]\n",
      "\n",
      "(100000, 16)\n"
     ]
    }
   ],
   "source": [
    "# user_state\n",
    "\n",
    "user_state_ohe = ohe(\"user_state\")\n",
    "print(user_state_ohe, user_state_ohe.shape, sep = \"\\n\\n\")"
   ]
  },
  {
   "cell_type": "code",
   "execution_count": 50,
   "metadata": {},
   "outputs": [
    {
     "name": "stdout",
     "output_type": "stream",
     "text": [
      "[[0. 0. 0. ... 0. 0. 0.]\n",
      " [0. 0. 0. ... 0. 0. 0.]\n",
      " [0. 0. 0. ... 0. 0. 0.]\n",
      " ...\n",
      " [0. 0. 0. ... 0. 0. 0.]\n",
      " [0. 0. 0. ... 0. 0. 0.]\n",
      " [0. 0. 0. ... 0. 0. 0.]]\n",
      "\n",
      "(100000, 77)\n"
     ]
    }
   ],
   "source": [
    "# item_color\n",
    "\n",
    "item_color_ohe = ohe(\"item_color\")\n",
    "print(item_color_ohe, item_color_ohe.shape, sep = \"\\n\\n\")"
   ]
  },
  {
   "cell_type": "code",
   "execution_count": 51,
   "metadata": {},
   "outputs": [
    {
     "name": "stdout",
     "output_type": "stream",
     "text": [
      "[[0. 0. 0. ... 0. 0. 0.]\n",
      " [0. 0. 0. ... 0. 0. 0.]\n",
      " [0. 0. 0. ... 0. 0. 0.]\n",
      " ...\n",
      " [0. 0. 0. ... 0. 0. 0.]\n",
      " [0. 0. 0. ... 0. 0. 0.]\n",
      " [0. 0. 0. ... 0. 0. 0.]]\n",
      "\n",
      "(100000, 135)\n"
     ]
    }
   ],
   "source": [
    "# brand_id\n",
    "\n",
    "brand_id_ohe = ohe(\"brand_id\")\n",
    "print(brand_id_ohe, brand_id_ohe.shape, sep = \"\\n\\n\")"
   ]
  },
  {
   "cell_type": "code",
   "execution_count": 52,
   "metadata": {},
   "outputs": [],
   "source": [
    "# before we append our OHE tables to our dataframe, we create a copy as it is a major change to the structure\n",
    "\n",
    "df_known_3 = df_known_2.copy()"
   ]
  },
  {
   "cell_type": "code",
   "execution_count": 53,
   "metadata": {},
   "outputs": [],
   "source": [
    "def ohe_to_column(df, attribute_ohe, prefix):\n",
    "    df_attribute_ohe = pd.DataFrame(attribute_ohe, columns = [prefix + str(i + 1) for i in range(attribute_ohe.shape[1])])\n",
    "    df_attribute_ohe.index += 1\n",
    "    df = pd.merge(df, df_attribute_ohe, left_index=True, right_index=True, how=\"outer\")\n",
    "    return df"
   ]
  },
  {
   "cell_type": "code",
   "execution_count": 136,
   "metadata": {
    "scrolled": true
   },
   "outputs": [],
   "source": [
    "df_known_3 = ohe_to_column(df_known_3, user_title_ohe, \"user_title_\")"
   ]
  },
  {
   "cell_type": "code",
   "execution_count": 137,
   "metadata": {},
   "outputs": [],
   "source": [
    "df_known_3 = ohe_to_column(df_known_3, user_state_ohe, \"user_state_\")"
   ]
  },
  {
   "cell_type": "code",
   "execution_count": 138,
   "metadata": {},
   "outputs": [],
   "source": [
    "df_known_3 = ohe_to_column(df_known_3, item_color_ohe, \"item_color_\")"
   ]
  },
  {
   "cell_type": "code",
   "execution_count": 139,
   "metadata": {},
   "outputs": [],
   "source": [
    "df_known_3 = ohe_to_column(df_known_3, brand_id_ohe, \"brand_id_\")"
   ]
  },
  {
   "cell_type": "code",
   "execution_count": 140,
   "metadata": {},
   "outputs": [
    {
     "data": {
      "text/html": [
       "<div>\n",
       "<style scoped>\n",
       "    .dataframe tbody tr th:only-of-type {\n",
       "        vertical-align: middle;\n",
       "    }\n",
       "\n",
       "    .dataframe tbody tr th {\n",
       "        vertical-align: top;\n",
       "    }\n",
       "\n",
       "    .dataframe thead th {\n",
       "        text-align: right;\n",
       "    }\n",
       "</style>\n",
       "<table border=\"1\" class=\"dataframe\">\n",
       "  <thead>\n",
       "    <tr style=\"text-align: right;\">\n",
       "      <th></th>\n",
       "      <th>order_date</th>\n",
       "      <th>delivery_date</th>\n",
       "      <th>item_id</th>\n",
       "      <th>item_size</th>\n",
       "      <th>item_color</th>\n",
       "      <th>brand_id</th>\n",
       "      <th>item_price</th>\n",
       "      <th>user_id</th>\n",
       "      <th>user_title</th>\n",
       "      <th>user_dob</th>\n",
       "      <th>...</th>\n",
       "      <th>brand_id_126_y</th>\n",
       "      <th>brand_id_127_y</th>\n",
       "      <th>brand_id_128_y</th>\n",
       "      <th>brand_id_129_y</th>\n",
       "      <th>brand_id_130_y</th>\n",
       "      <th>brand_id_131_y</th>\n",
       "      <th>brand_id_132_y</th>\n",
       "      <th>brand_id_133_y</th>\n",
       "      <th>brand_id_134_y</th>\n",
       "      <th>brand_id_135_y</th>\n",
       "    </tr>\n",
       "    <tr>\n",
       "      <th>order_item_id</th>\n",
       "      <th></th>\n",
       "      <th></th>\n",
       "      <th></th>\n",
       "      <th></th>\n",
       "      <th></th>\n",
       "      <th></th>\n",
       "      <th></th>\n",
       "      <th></th>\n",
       "      <th></th>\n",
       "      <th></th>\n",
       "      <th></th>\n",
       "      <th></th>\n",
       "      <th></th>\n",
       "      <th></th>\n",
       "      <th></th>\n",
       "      <th></th>\n",
       "      <th></th>\n",
       "      <th></th>\n",
       "      <th></th>\n",
       "      <th></th>\n",
       "      <th></th>\n",
       "    </tr>\n",
       "  </thead>\n",
       "  <tbody>\n",
       "    <tr>\n",
       "      <td>1</td>\n",
       "      <td>2016-06-22</td>\n",
       "      <td>2016-06-27 00:00:00.000000000</td>\n",
       "      <td>643</td>\n",
       "      <td>m</td>\n",
       "      <td>navy</td>\n",
       "      <td>30</td>\n",
       "      <td>0.049950</td>\n",
       "      <td>30822</td>\n",
       "      <td>Mrs</td>\n",
       "      <td>1969-04-17 00:00:00.000000000</td>\n",
       "      <td>...</td>\n",
       "      <td>0.0</td>\n",
       "      <td>0.0</td>\n",
       "      <td>0.0</td>\n",
       "      <td>0.0</td>\n",
       "      <td>0.0</td>\n",
       "      <td>0.0</td>\n",
       "      <td>0.0</td>\n",
       "      <td>0.0</td>\n",
       "      <td>0.0</td>\n",
       "      <td>0.0</td>\n",
       "    </tr>\n",
       "    <tr>\n",
       "      <td>2</td>\n",
       "      <td>2016-06-22</td>\n",
       "      <td>2016-04-07 10:44:13.333464832</td>\n",
       "      <td>337</td>\n",
       "      <td>l</td>\n",
       "      <td>grey</td>\n",
       "      <td>30</td>\n",
       "      <td>0.019970</td>\n",
       "      <td>30822</td>\n",
       "      <td>Mrs</td>\n",
       "      <td>1969-04-17 00:00:00.000000000</td>\n",
       "      <td>...</td>\n",
       "      <td>0.0</td>\n",
       "      <td>0.0</td>\n",
       "      <td>0.0</td>\n",
       "      <td>0.0</td>\n",
       "      <td>0.0</td>\n",
       "      <td>0.0</td>\n",
       "      <td>0.0</td>\n",
       "      <td>0.0</td>\n",
       "      <td>0.0</td>\n",
       "      <td>0.0</td>\n",
       "    </tr>\n",
       "    <tr>\n",
       "      <td>3</td>\n",
       "      <td>2016-06-22</td>\n",
       "      <td>2016-06-27 00:00:00.000000000</td>\n",
       "      <td>270</td>\n",
       "      <td>xl</td>\n",
       "      <td>grey</td>\n",
       "      <td>49</td>\n",
       "      <td>0.079980</td>\n",
       "      <td>30823</td>\n",
       "      <td>Mrs</td>\n",
       "      <td>1970-04-22 00:00:00.000000000</td>\n",
       "      <td>...</td>\n",
       "      <td>0.0</td>\n",
       "      <td>0.0</td>\n",
       "      <td>0.0</td>\n",
       "      <td>0.0</td>\n",
       "      <td>0.0</td>\n",
       "      <td>0.0</td>\n",
       "      <td>0.0</td>\n",
       "      <td>0.0</td>\n",
       "      <td>0.0</td>\n",
       "      <td>0.0</td>\n",
       "    </tr>\n",
       "    <tr>\n",
       "      <td>4</td>\n",
       "      <td>2016-06-22</td>\n",
       "      <td>2016-06-27 00:00:00.000000000</td>\n",
       "      <td>142</td>\n",
       "      <td>xl</td>\n",
       "      <td>grey</td>\n",
       "      <td>49</td>\n",
       "      <td>0.100000</td>\n",
       "      <td>30823</td>\n",
       "      <td>Mrs</td>\n",
       "      <td>1970-04-22 00:00:00.000000000</td>\n",
       "      <td>...</td>\n",
       "      <td>0.0</td>\n",
       "      <td>0.0</td>\n",
       "      <td>0.0</td>\n",
       "      <td>0.0</td>\n",
       "      <td>0.0</td>\n",
       "      <td>0.0</td>\n",
       "      <td>0.0</td>\n",
       "      <td>0.0</td>\n",
       "      <td>0.0</td>\n",
       "      <td>0.0</td>\n",
       "    </tr>\n",
       "    <tr>\n",
       "      <td>5</td>\n",
       "      <td>2016-06-22</td>\n",
       "      <td>2016-06-27 00:00:00.000000000</td>\n",
       "      <td>561</td>\n",
       "      <td>xl</td>\n",
       "      <td>grey</td>\n",
       "      <td>3</td>\n",
       "      <td>0.014915</td>\n",
       "      <td>30823</td>\n",
       "      <td>Mrs</td>\n",
       "      <td>1970-04-22 00:00:00.000000000</td>\n",
       "      <td>...</td>\n",
       "      <td>0.0</td>\n",
       "      <td>0.0</td>\n",
       "      <td>0.0</td>\n",
       "      <td>0.0</td>\n",
       "      <td>0.0</td>\n",
       "      <td>0.0</td>\n",
       "      <td>0.0</td>\n",
       "      <td>0.0</td>\n",
       "      <td>0.0</td>\n",
       "      <td>0.0</td>\n",
       "    </tr>\n",
       "    <tr>\n",
       "      <td>...</td>\n",
       "      <td>...</td>\n",
       "      <td>...</td>\n",
       "      <td>...</td>\n",
       "      <td>...</td>\n",
       "      <td>...</td>\n",
       "      <td>...</td>\n",
       "      <td>...</td>\n",
       "      <td>...</td>\n",
       "      <td>...</td>\n",
       "      <td>...</td>\n",
       "      <td>...</td>\n",
       "      <td>...</td>\n",
       "      <td>...</td>\n",
       "      <td>...</td>\n",
       "      <td>...</td>\n",
       "      <td>...</td>\n",
       "      <td>...</td>\n",
       "      <td>...</td>\n",
       "      <td>...</td>\n",
       "      <td>...</td>\n",
       "      <td>...</td>\n",
       "    </tr>\n",
       "    <tr>\n",
       "      <td>99996</td>\n",
       "      <td>2016-11-09</td>\n",
       "      <td>2016-12-09 00:00:00.000000000</td>\n",
       "      <td>156</td>\n",
       "      <td>xs</td>\n",
       "      <td>blue</td>\n",
       "      <td>34</td>\n",
       "      <td>0.029930</td>\n",
       "      <td>713</td>\n",
       "      <td>Mrs</td>\n",
       "      <td>1959-03-21 00:00:00.000000000</td>\n",
       "      <td>...</td>\n",
       "      <td>0.0</td>\n",
       "      <td>0.0</td>\n",
       "      <td>0.0</td>\n",
       "      <td>0.0</td>\n",
       "      <td>0.0</td>\n",
       "      <td>0.0</td>\n",
       "      <td>0.0</td>\n",
       "      <td>0.0</td>\n",
       "      <td>0.0</td>\n",
       "      <td>0.0</td>\n",
       "    </tr>\n",
       "    <tr>\n",
       "      <td>99997</td>\n",
       "      <td>2016-11-09</td>\n",
       "      <td>2016-12-09 00:00:00.000000000</td>\n",
       "      <td>156</td>\n",
       "      <td>xs</td>\n",
       "      <td>brown</td>\n",
       "      <td>34</td>\n",
       "      <td>0.029930</td>\n",
       "      <td>713</td>\n",
       "      <td>Mrs</td>\n",
       "      <td>1959-03-21 00:00:00.000000000</td>\n",
       "      <td>...</td>\n",
       "      <td>0.0</td>\n",
       "      <td>0.0</td>\n",
       "      <td>0.0</td>\n",
       "      <td>0.0</td>\n",
       "      <td>0.0</td>\n",
       "      <td>0.0</td>\n",
       "      <td>0.0</td>\n",
       "      <td>0.0</td>\n",
       "      <td>0.0</td>\n",
       "      <td>0.0</td>\n",
       "    </tr>\n",
       "    <tr>\n",
       "      <td>99998</td>\n",
       "      <td>2016-11-09</td>\n",
       "      <td>2015-09-17 02:50:33.333662208</td>\n",
       "      <td>1832</td>\n",
       "      <td>xl</td>\n",
       "      <td>black</td>\n",
       "      <td>37</td>\n",
       "      <td>0.026927</td>\n",
       "      <td>47794</td>\n",
       "      <td>Mr</td>\n",
       "      <td>1905-11-15 06:01:14.544074880</td>\n",
       "      <td>...</td>\n",
       "      <td>0.0</td>\n",
       "      <td>0.0</td>\n",
       "      <td>0.0</td>\n",
       "      <td>0.0</td>\n",
       "      <td>0.0</td>\n",
       "      <td>0.0</td>\n",
       "      <td>0.0</td>\n",
       "      <td>0.0</td>\n",
       "      <td>0.0</td>\n",
       "      <td>0.0</td>\n",
       "    </tr>\n",
       "    <tr>\n",
       "      <td>99999</td>\n",
       "      <td>2016-11-09</td>\n",
       "      <td>2015-09-17 02:50:33.333662208</td>\n",
       "      <td>1832</td>\n",
       "      <td>xl</td>\n",
       "      <td>black</td>\n",
       "      <td>37</td>\n",
       "      <td>0.026927</td>\n",
       "      <td>47794</td>\n",
       "      <td>Mr</td>\n",
       "      <td>1905-11-15 06:01:14.544074880</td>\n",
       "      <td>...</td>\n",
       "      <td>0.0</td>\n",
       "      <td>0.0</td>\n",
       "      <td>0.0</td>\n",
       "      <td>0.0</td>\n",
       "      <td>0.0</td>\n",
       "      <td>0.0</td>\n",
       "      <td>0.0</td>\n",
       "      <td>0.0</td>\n",
       "      <td>0.0</td>\n",
       "      <td>0.0</td>\n",
       "    </tr>\n",
       "    <tr>\n",
       "      <td>100000</td>\n",
       "      <td>2016-11-09</td>\n",
       "      <td>2016-08-10 00:00:00.000000000</td>\n",
       "      <td>1891</td>\n",
       "      <td>s</td>\n",
       "      <td>fuchsia</td>\n",
       "      <td>47</td>\n",
       "      <td>0.027928</td>\n",
       "      <td>2622</td>\n",
       "      <td>Mrs</td>\n",
       "      <td>1905-11-15 06:01:14.544074880</td>\n",
       "      <td>...</td>\n",
       "      <td>0.0</td>\n",
       "      <td>0.0</td>\n",
       "      <td>0.0</td>\n",
       "      <td>0.0</td>\n",
       "      <td>0.0</td>\n",
       "      <td>0.0</td>\n",
       "      <td>0.0</td>\n",
       "      <td>0.0</td>\n",
       "      <td>0.0</td>\n",
       "      <td>0.0</td>\n",
       "    </tr>\n",
       "  </tbody>\n",
       "</table>\n",
       "<p>100000 rows × 488 columns</p>\n",
       "</div>"
      ],
      "text/plain": [
       "              order_date                 delivery_date item_id item_size  \\\n",
       "order_item_id                                                              \n",
       "1             2016-06-22 2016-06-27 00:00:00.000000000     643         m   \n",
       "2             2016-06-22 2016-04-07 10:44:13.333464832     337         l   \n",
       "3             2016-06-22 2016-06-27 00:00:00.000000000     270        xl   \n",
       "4             2016-06-22 2016-06-27 00:00:00.000000000     142        xl   \n",
       "5             2016-06-22 2016-06-27 00:00:00.000000000     561        xl   \n",
       "...                  ...                           ...     ...       ...   \n",
       "99996         2016-11-09 2016-12-09 00:00:00.000000000     156        xs   \n",
       "99997         2016-11-09 2016-12-09 00:00:00.000000000     156        xs   \n",
       "99998         2016-11-09 2015-09-17 02:50:33.333662208    1832        xl   \n",
       "99999         2016-11-09 2015-09-17 02:50:33.333662208    1832        xl   \n",
       "100000        2016-11-09 2016-08-10 00:00:00.000000000    1891         s   \n",
       "\n",
       "              item_color brand_id  item_price user_id user_title  \\\n",
       "order_item_id                                                      \n",
       "1                   navy       30    0.049950   30822        Mrs   \n",
       "2                   grey       30    0.019970   30822        Mrs   \n",
       "3                   grey       49    0.079980   30823        Mrs   \n",
       "4                   grey       49    0.100000   30823        Mrs   \n",
       "5                   grey        3    0.014915   30823        Mrs   \n",
       "...                  ...      ...         ...     ...        ...   \n",
       "99996               blue       34    0.029930     713        Mrs   \n",
       "99997              brown       34    0.029930     713        Mrs   \n",
       "99998              black       37    0.026927   47794         Mr   \n",
       "99999              black       37    0.026927   47794         Mr   \n",
       "100000           fuchsia       47    0.027928    2622        Mrs   \n",
       "\n",
       "                                   user_dob  ... brand_id_126_y  \\\n",
       "order_item_id                                ...                  \n",
       "1             1969-04-17 00:00:00.000000000  ...            0.0   \n",
       "2             1969-04-17 00:00:00.000000000  ...            0.0   \n",
       "3             1970-04-22 00:00:00.000000000  ...            0.0   \n",
       "4             1970-04-22 00:00:00.000000000  ...            0.0   \n",
       "5             1970-04-22 00:00:00.000000000  ...            0.0   \n",
       "...                                     ...  ...            ...   \n",
       "99996         1959-03-21 00:00:00.000000000  ...            0.0   \n",
       "99997         1959-03-21 00:00:00.000000000  ...            0.0   \n",
       "99998         1905-11-15 06:01:14.544074880  ...            0.0   \n",
       "99999         1905-11-15 06:01:14.544074880  ...            0.0   \n",
       "100000        1905-11-15 06:01:14.544074880  ...            0.0   \n",
       "\n",
       "              brand_id_127_y  brand_id_128_y  brand_id_129_y brand_id_130_y  \\\n",
       "order_item_id                                                                 \n",
       "1                        0.0             0.0             0.0            0.0   \n",
       "2                        0.0             0.0             0.0            0.0   \n",
       "3                        0.0             0.0             0.0            0.0   \n",
       "4                        0.0             0.0             0.0            0.0   \n",
       "5                        0.0             0.0             0.0            0.0   \n",
       "...                      ...             ...             ...            ...   \n",
       "99996                    0.0             0.0             0.0            0.0   \n",
       "99997                    0.0             0.0             0.0            0.0   \n",
       "99998                    0.0             0.0             0.0            0.0   \n",
       "99999                    0.0             0.0             0.0            0.0   \n",
       "100000                   0.0             0.0             0.0            0.0   \n",
       "\n",
       "               brand_id_131_y  brand_id_132_y  brand_id_133_y  brand_id_134_y  \\\n",
       "order_item_id                                                                   \n",
       "1                         0.0             0.0             0.0             0.0   \n",
       "2                         0.0             0.0             0.0             0.0   \n",
       "3                         0.0             0.0             0.0             0.0   \n",
       "4                         0.0             0.0             0.0             0.0   \n",
       "5                         0.0             0.0             0.0             0.0   \n",
       "...                       ...             ...             ...             ...   \n",
       "99996                     0.0             0.0             0.0             0.0   \n",
       "99997                     0.0             0.0             0.0             0.0   \n",
       "99998                     0.0             0.0             0.0             0.0   \n",
       "99999                     0.0             0.0             0.0             0.0   \n",
       "100000                    0.0             0.0             0.0             0.0   \n",
       "\n",
       "               brand_id_135_y  \n",
       "order_item_id                  \n",
       "1                         0.0  \n",
       "2                         0.0  \n",
       "3                         0.0  \n",
       "4                         0.0  \n",
       "5                         0.0  \n",
       "...                       ...  \n",
       "99996                     0.0  \n",
       "99997                     0.0  \n",
       "99998                     0.0  \n",
       "99999                     0.0  \n",
       "100000                    0.0  \n",
       "\n",
       "[100000 rows x 488 columns]"
      ]
     },
     "execution_count": 140,
     "metadata": {},
     "output_type": "execute_result"
    }
   ],
   "source": [
    "df_known_3"
   ]
  },
  {
   "cell_type": "markdown",
   "metadata": {},
   "source": [
    "---"
   ]
  },
  {
   "cell_type": "markdown",
   "metadata": {},
   "source": [
    "## 4. Model Tuning and Selection"
   ]
  },
  {
   "cell_type": "markdown",
   "metadata": {},
   "source": [
    "In order to pinpoint which model best fits the data, different **classification models** need to be tried out. In this case, the following models are going to be tested:\n",
    "- Logistic Regression\n",
    "- Decision Tree\n",
    "- Random Forest\n",
    "- Support Vector Machine\n",
    "\n",
    "To fine-tune each model, going to experiment with inserting normalised features, encoded features or both. Scores will be insered in dictionary for later comparison. Comparison criteria is going to be AUC (area under curve) score."
   ]
  },
  {
   "cell_type": "markdown",
   "metadata": {},
   "source": [
    "### 4.1 Define list of features to test"
   ]
  },
  {
   "cell_type": "code",
   "execution_count": 58,
   "metadata": {},
   "outputs": [],
   "source": [
    "# Create list with OHE columns to imput into different functions\n",
    "ohe_columns = list( set(df_known_3.columns).difference(set(df_known_2.columns)) )\n",
    "\n",
    "# Create list with normalised columns\n",
    "norm_columns = ['order_date_norm', 'delivery_date_norm', 'item_price_norm', 'user_dob_norm', \n",
    "                'user_reg_date_norm', 'delivery_duration_norm']"
   ]
  },
  {
   "cell_type": "markdown",
   "metadata": {},
   "source": [
    "### 4.2 Define dependent and independent variables"
   ]
  },
  {
   "cell_type": "code",
   "execution_count": 59,
   "metadata": {},
   "outputs": [],
   "source": [
    "# Define y (target)\n",
    "y = df_known_3[\"return\"]\n",
    "\n",
    "# Define X as set of normalized features for now\n",
    "X = df_known_3[norm_columns]"
   ]
  },
  {
   "cell_type": "markdown",
   "metadata": {},
   "source": [
    "### 4.3 Split sample"
   ]
  },
  {
   "cell_type": "code",
   "execution_count": 60,
   "metadata": {},
   "outputs": [],
   "source": [
    "from sklearn.model_selection import train_test_split"
   ]
  },
  {
   "cell_type": "code",
   "execution_count": 61,
   "metadata": {},
   "outputs": [],
   "source": [
    "# The known dataset is to be split into train and test part with a 70-30 ratio.\n",
    "X_train, X_test, y_train, y_test = train_test_split(X, y, test_size = 0.3, random_state = 888)"
   ]
  },
  {
   "cell_type": "code",
   "execution_count": 62,
   "metadata": {},
   "outputs": [
    {
     "name": "stdout",
     "output_type": "stream",
     "text": [
      "(70000, 6) (30000, 6)\n",
      "(70000,) (30000,)\n"
     ]
    }
   ],
   "source": [
    "# confirm it works\n",
    "print(X_train.shape, X_test.shape)\n",
    "print(y_train.shape, y_test.shape)"
   ]
  },
  {
   "cell_type": "markdown",
   "metadata": {},
   "source": [
    "### 4.4 Define functions for testing models using AUC score"
   ]
  },
  {
   "cell_type": "code",
   "execution_count": 81,
   "metadata": {},
   "outputs": [],
   "source": [
    "def auc_score_for_model(model, hyp_param, features, no_of_rows = 100000):\n",
    "    \"\"\" Function that takes model and parameter as input and returns maximum auc\n",
    "    score for the model\n",
    "    \n",
    "    model: name of model to test as string\n",
    "    hyp_param: list of possible values to test for model hyp.param\n",
    "    \n",
    "    no_of_rows: number of rows to be included in sample (option to use less rows\n",
    "    in case model too slow)\n",
    "\n",
    "    return: max_auc_score, parameter value for auc max\n",
    "\n",
    "    \"\"\"\n",
    "    max_auc_score = -1\n",
    "    max_hyp_param = None\n",
    "    \n",
    "    y = df_known_3[\"return\"].head(no_of_rows)\n",
    "    X = df_known_3[features].head(no_of_rows)\n",
    "    X_train, X_test, y_train, y_test = train_test_split(X, y, test_size = 0.3, random_state = 888)\n",
    "    \n",
    "    for val in hyp_param:\n",
    "        if model == \"Logistic Regression\":\n",
    "            model = LogisticRegression(fit_intercept = True, C=val)\n",
    "        elif model == \"Decision Tree\":\n",
    "            model = tree.DecisionTreeClassifier(criterion=\"entropy\", max_depth=val)\n",
    "        elif model == \"Random Forest\":\n",
    "            model = RandomForestClassifier(n_estimators=val)\n",
    "        elif model == \"Support Vector Machine\":\n",
    "            model = SVC(C=val, probability=True) # default kernel rbf ok\n",
    "        model.fit(X_train, y_train)\n",
    "        y_predict = model.predict(X_test)\n",
    "        auc_score = roc_auc_score(y_test, y_predict)\n",
    "        if auc_score > max_auc_score:\n",
    "            max_auc_score = auc_score\n",
    "            max_hyp_param = val\n",
    "            # calculation to be used in the visualisation of ROC curve\n",
    "            probs = model.predict_proba(X_test)\n",
    "            preds = probs[:,1]\n",
    "            fpr, tpr, threshold = metrics.roc_curve(y_test, preds)\n",
    "            roc_auc = metrics.auc(fpr, tpr)\n",
    "#         print(auc_score, val)\n",
    "#     print(max_auc_score, max_hyp_param)\n",
    "    return (max_auc_score, max_hyp_param, fpr, tpr, roc_auc)"
   ]
  },
  {
   "cell_type": "code",
   "execution_count": 82,
   "metadata": {},
   "outputs": [],
   "source": [
    "# define dict to save model max auc scores\n",
    "max_model_auc_scores = {\"Logistic Regression\": 0,\n",
    "          \"Decision Tree\": 0,\n",
    "          \"Random Forest\": 0,\n",
    "          \"Support Vector Machine\": 0}"
   ]
  },
  {
   "cell_type": "code",
   "execution_count": 83,
   "metadata": {},
   "outputs": [],
   "source": [
    "# dicts to save fpr, tpr, roc_auch values for visualisation\n",
    "max_fpr = {\"Logistic Regression\": 0,\n",
    "          \"Decision Tree\": 0,\n",
    "          \"Random Forest\": 0,\n",
    "          \"Support Vector Machine\": 0}\n",
    "\n",
    "max_tpr = {\"Logistic Regression\": 0,\n",
    "          \"Decision Tree\": 0,\n",
    "          \"Random Forest\": 0,\n",
    "          \"Support Vector Machine\": 0}\n",
    "\n",
    "max_roc_auc = {\"Logistic Regression\": 0,\n",
    "          \"Decision Tree\": 0,\n",
    "          \"Random Forest\": 0,\n",
    "          \"Support Vector Machine\": 0}"
   ]
  },
  {
   "cell_type": "code",
   "execution_count": 84,
   "metadata": {},
   "outputs": [],
   "source": [
    "def save_max_auc_score(model_tested, auc_score):\n",
    "    \"\"\" Function to insert max auch score of model to dict\n",
    "    \n",
    "    return: update dict\n",
    "    \"\"\"\n",
    "    if max_model_auc_scores[model_tested] < auc_score:\n",
    "        max_model_auc_scores[model_tested] = round(auc_score, 3)\n",
    "    return max_model_auc_scores"
   ]
  },
  {
   "cell_type": "markdown",
   "metadata": {},
   "source": [
    "### 4.5 Logistic Regression"
   ]
  },
  {
   "cell_type": "markdown",
   "metadata": {},
   "source": [
    "First model to be tested is logistic regression. As the predicted variable is classification (0 or 1), we choose logistic instread of linear regression."
   ]
  },
  {
   "cell_type": "code",
   "execution_count": 85,
   "metadata": {},
   "outputs": [],
   "source": [
    "import statsmodels.api as sm\n",
    "import sklearn.metrics as metrics\n",
    "from sklearn.linear_model import LogisticRegression\n",
    "from sklearn.metrics import confusion_matrix\n",
    "# from sklearn.metrics import roc_auc_score"
   ]
  },
  {
   "cell_type": "code",
   "execution_count": 86,
   "metadata": {},
   "outputs": [
    {
     "name": "stdout",
     "output_type": "stream",
     "text": [
      "Max score for normalised features: 0.5624951438130081 100\n",
      "Max score for encoded features: 0.5621735035258013 100\n",
      "Max score for both normalised & encoded features: 0.5913275068405857 100\n"
     ]
    }
   ],
   "source": [
    "# Test logistic regression with different values for c\n",
    "model_tested = \"Logistic Regression\"\n",
    "C_values = [100, 10, 1.0, 0.1, 0.01]\n",
    "\n",
    "# test for norm features\n",
    "max_auc_score_n, max_hyperparam_n, fpr_n, tpr_n, roc_auc_n = auc_score_for_model(model_tested, C_values, norm_columns)\n",
    "\n",
    "# test for encoded features\n",
    "max_auc_score_ohe, max_hyperparam_ohe, fpr_ohe, tpr_ohe, roc_auc_ohe = auc_score_for_model(model_tested, C_values, ohe_columns)\n",
    "\n",
    "# test for for both norm & encoded features\n",
    "max_auc_score_norm_nohe, max_hyperparam_norm_nohe, fpr_nohe, tpr_nohe, roc_auc_nohe = auc_score_for_model(model_tested, C_values, norm_columns+ohe_columns)\n",
    "\n",
    "print(\"Max score for normalised features:\", max_auc_score_n, max_hyperparam_n )\n",
    "print(\"Max score for encoded features:\", max_auc_score_ohe, max_hyperparam_ohe)\n",
    "print(\"Max score for both normalised & encoded features:\", max_auc_score_norm_nohe, max_hyperparam_norm_nohe)"
   ]
  },
  {
   "cell_type": "code",
   "execution_count": 87,
   "metadata": {},
   "outputs": [
    {
     "data": {
      "text/plain": [
       "{'Logistic Regression': 0.591,\n",
       " 'Decision Tree': 0,\n",
       " 'Random Forest': 0,\n",
       " 'Support Vector Machine': 0}"
      ]
     },
     "execution_count": 87,
     "metadata": {},
     "output_type": "execute_result"
    }
   ],
   "source": [
    "# highest score is for using both normalised and encoded features\n",
    "max_score = max(max_auc_score_n, max_auc_score_ohe, max_auc_score_norm_nohe)\n",
    "save_max_auc_score(model_tested, max_score)"
   ]
  },
  {
   "cell_type": "code",
   "execution_count": 89,
   "metadata": {},
   "outputs": [],
   "source": [
    "max_fpr[model_tested] = fpr_nohe\n",
    "max_tpr[model_tested] = tpr_nohe\n",
    "max_roc_auc[model_tested] = roc_auc_nohe"
   ]
  },
  {
   "cell_type": "markdown",
   "metadata": {},
   "source": [
    "Changing the underlying dataset (X) does not affect logistic regression"
   ]
  },
  {
   "cell_type": "markdown",
   "metadata": {},
   "source": [
    "### 4.6 Decision Tree"
   ]
  },
  {
   "cell_type": "code",
   "execution_count": 90,
   "metadata": {},
   "outputs": [],
   "source": [
    "from sklearn import tree\n",
    "from sklearn.model_selection import cross_val_score"
   ]
  },
  {
   "cell_type": "code",
   "execution_count": 91,
   "metadata": {},
   "outputs": [
    {
     "name": "stdout",
     "output_type": "stream",
     "text": [
      "Max score for normalised features: 0.5763206452929224 1\n",
      "Max score for encoded features: 0.5 1\n",
      "Max score for both normalised & encoded features: 0.5763206452929224 1\n"
     ]
    }
   ],
   "source": [
    "model_tested = \"Decision Tree\"\n",
    "max_depths = [1, 2, 3, 4, 5]\n",
    "\n",
    "# test for norm features\n",
    "max_auc_score_n, max_hyperparam_n, fpr_n, tpr_n, roc_auc_n = auc_score_for_model(model_tested, max_depths, norm_columns)\n",
    "\n",
    "# test for encoded features\n",
    "max_auc_score_ohe, max_hyperparam_ohe, fpr_ohe, tpr_ohe, roc_auc_ohe = auc_score_for_model(model_tested, max_depths, ohe_columns)\n",
    "\n",
    "# test for for both norm & encoded features\n",
    "max_auc_score_norm_nohe, max_hyperparam_norm_nohe, fpr_nohe, tpr_nohe, roc_auc_nohe = auc_score_for_model(model_tested, max_depths, norm_columns+ohe_columns)\n",
    "\n",
    "print(\"Max score for normalised features:\", max_auc_score_n, max_hyperparam_n )\n",
    "print(\"Max score for encoded features:\", max_auc_score_ohe, max_hyperparam_ohe)\n",
    "print(\"Max score for both normalised & encoded features:\", max_auc_score_norm_nohe, max_hyperparam_norm_nohe)"
   ]
  },
  {
   "cell_type": "code",
   "execution_count": 92,
   "metadata": {},
   "outputs": [
    {
     "data": {
      "text/plain": [
       "{'Logistic Regression': 0.591,\n",
       " 'Decision Tree': 0.576,\n",
       " 'Random Forest': 0,\n",
       " 'Support Vector Machine': 0}"
      ]
     },
     "execution_count": 92,
     "metadata": {},
     "output_type": "execute_result"
    }
   ],
   "source": [
    "# highest score is for using only normalised features\n",
    "max_score = max(max_auc_score_n, max_auc_score_ohe, max_auc_score_norm_nohe)\n",
    "save_max_auc_score(model_tested, max_score)"
   ]
  },
  {
   "cell_type": "code",
   "execution_count": 93,
   "metadata": {},
   "outputs": [],
   "source": [
    "max_fpr[model_tested] = fpr_n\n",
    "max_tpr[model_tested] = tpr_n\n",
    "max_roc_auc[model_tested] = roc_auc_n"
   ]
  },
  {
   "cell_type": "markdown",
   "metadata": {},
   "source": [
    "### 4.7 Random Forest"
   ]
  },
  {
   "cell_type": "code",
   "execution_count": 135,
   "metadata": {},
   "outputs": [],
   "source": [
    "from sklearn.ensemble import RandomForestClassifier"
   ]
  },
  {
   "cell_type": "code",
   "execution_count": 96,
   "metadata": {},
   "outputs": [
    {
     "name": "stdout",
     "output_type": "stream",
     "text": [
      "Max score for normalised features: 0.6301970144581612 10\n",
      "Max score for encoded features: 0.5558794938944803 1000\n",
      "Max score for both normalised & encoded features: 0.6230626259464325 1000\n"
     ]
    }
   ],
   "source": [
    "model_tested = \"Random Forest\"\n",
    "n_estimators = [10, 100, 1000]\n",
    "\n",
    "# test for norm features\n",
    "max_auc_score_n, max_hyperparam_n, fpr_n, tpr_n, roc_auc_n = auc_score_for_model(model_tested, n_estimators, norm_columns)\n",
    "\n",
    "# test for encoded features\n",
    "max_auc_score_ohe, max_hyperparam_ohe, fpr_ohe, tpr_ohe, roc_auc_ohe = auc_score_for_model(model_tested, n_estimators, ohe_columns)\n",
    "\n",
    "# test for for both norm & encoded features\n",
    "max_auc_score_norm_nohe, max_hyperparam_norm_nohe, fpr_nohe, tpr_nohe, roc_auc_nohe = auc_score_for_model(model_tested, n_estimators, norm_columns+ohe_columns)\n",
    "\n",
    "print(\"Max score for normalised features:\", max_auc_score_n, max_hyperparam_n )\n",
    "print(\"Max score for encoded features:\", max_auc_score_ohe, max_hyperparam_ohe)\n",
    "print(\"Max score for both normalised & encoded features:\", max_auc_score_norm_nohe, max_hyperparam_norm_nohe)"
   ]
  },
  {
   "cell_type": "code",
   "execution_count": 97,
   "metadata": {},
   "outputs": [
    {
     "data": {
      "text/plain": [
       "{'Logistic Regression': 0.591,\n",
       " 'Decision Tree': 0.576,\n",
       " 'Random Forest': 0.63,\n",
       " 'Support Vector Machine': 0}"
      ]
     },
     "execution_count": 97,
     "metadata": {},
     "output_type": "execute_result"
    }
   ],
   "source": [
    "# highest score is for using only normalised features\n",
    "\n",
    "max_score = max(max_auc_score_n, max_auc_score_ohe, max_auc_score_norm_nohe)\n",
    "save_max_auc_score(model_tested, max_score)"
   ]
  },
  {
   "cell_type": "markdown",
   "metadata": {},
   "source": [
    "Random Forest looks like a better fit so far from both logistic regression and decision tree"
   ]
  },
  {
   "cell_type": "code",
   "execution_count": 98,
   "metadata": {},
   "outputs": [],
   "source": [
    "max_fpr[model_tested] = fpr_n\n",
    "max_tpr[model_tested] = tpr_n\n",
    "max_roc_auc[model_tested] = roc_auc_n"
   ]
  },
  {
   "cell_type": "markdown",
   "metadata": {},
   "source": [
    "### 4.8 Support Vector Machine"
   ]
  },
  {
   "cell_type": "code",
   "execution_count": 99,
   "metadata": {},
   "outputs": [],
   "source": [
    "from sklearn.svm import SVC"
   ]
  },
  {
   "cell_type": "markdown",
   "metadata": {},
   "source": [
    "As SVC takes a lot of time to process, we are using 10,000 lines sample for training the model"
   ]
  },
  {
   "cell_type": "code",
   "execution_count": 100,
   "metadata": {},
   "outputs": [
    {
     "name": "stdout",
     "output_type": "stream",
     "text": [
      "Max score for normalised features: 0.6063403781979978 100\n",
      "Max score for encoded features: 0.5939933259176864 100\n",
      "Max score for both normalised & encoded features: 0.5804226918798666 100\n"
     ]
    }
   ],
   "source": [
    "model_tested = \"Support Vector Machine\"\n",
    "C_val = [100, 10, 1.0, 0.1, 0.01]\n",
    "\n",
    "# we will use 10,000 rows with SVM as otherwise the model gets too slow\n",
    "number_of_rows = 1000\n",
    "\n",
    "# test for norm features\n",
    "max_auc_score_n, max_hyperparam_n, fpr_n, tpr_n, roc_auc_n = auc_score_for_model(model_tested, C_val, norm_columns, no_of_rows = number_of_rows)\n",
    "\n",
    "# test for encoded features\n",
    "max_auc_score_ohe, max_hyperparam_ohe, fpr_ohe, tpr_ohe, roc_auc_ohe = auc_score_for_model(model_tested, C_val, ohe_columns, no_of_rows = number_of_rows)\n",
    "\n",
    "# test for for both norm & encoded features\n",
    "max_auc_score_norm_nohe, max_hyperparam_norm_nohe, fpr_nohe, tpr_nohe, roc_auc_nohe = auc_score_for_model(model_tested, C_val, norm_columns+ohe_columns, no_of_rows = number_of_rows)\n",
    "\n",
    "print(\"Max score for normalised features:\", max_auc_score_n, max_hyperparam_n )\n",
    "print(\"Max score for encoded features:\", max_auc_score_ohe, max_hyperparam_ohe)\n",
    "print(\"Max score for both normalised & encoded features:\", max_auc_score_norm_nohe, max_hyperparam_norm_nohe)"
   ]
  },
  {
   "cell_type": "markdown",
   "metadata": {},
   "source": [
    "In order to find the best parameters only 1000 lines were used. With the sample it was found that best fit comes with C=100 and using only the normalised features. At this point the model is to be trained to get the actual AUC (running time >30 mins)"
   ]
  },
  {
   "cell_type": "code",
   "execution_count": null,
   "metadata": {},
   "outputs": [],
   "source": [
    "# highest score is for using only normalised features\n",
    "\n",
    "# use full dataset to train the model and get actual AUC score\n",
    "#  if it takes too much time feel free to skip this part\n",
    "\n",
    "max_auc_score_n, max_hyperparam_n, fpr_n, tpr_n, roc_auc_n = auc_score_for_model(model_tested, C_val, norm_columns, no_of_rows = number_of_rows)"
   ]
  },
  {
   "cell_type": "code",
   "execution_count": 101,
   "metadata": {},
   "outputs": [
    {
     "data": {
      "text/plain": [
       "{'Logistic Regression': 0.591,\n",
       " 'Decision Tree': 0.576,\n",
       " 'Random Forest': 0.63,\n",
       " 'Support Vector Machine': 0.606}"
      ]
     },
     "execution_count": 101,
     "metadata": {},
     "output_type": "execute_result"
    }
   ],
   "source": [
    "max_score = max(max_auc_score_n, max_auc_score_ohe, max_auc_score_norm_nohe)\n",
    "save_max_auc_score(model_tested, max_score)"
   ]
  },
  {
   "cell_type": "code",
   "execution_count": 102,
   "metadata": {},
   "outputs": [],
   "source": [
    "max_fpr[model_tested] = fpr_n\n",
    "max_tpr[model_tested] = tpr_n\n",
    "max_roc_auc[model_tested] = roc_auc_n"
   ]
  },
  {
   "cell_type": "markdown",
   "metadata": {},
   "source": [
    "---"
   ]
  },
  {
   "cell_type": "markdown",
   "metadata": {},
   "source": [
    "## 5. Model Evaluation"
   ]
  },
  {
   "cell_type": "markdown",
   "metadata": {},
   "source": [
    "In this section the different optimized models will be compared to each other to pick the best one fitting the known data using the **ROC Curve** criteria."
   ]
  },
  {
   "cell_type": "markdown",
   "metadata": {},
   "source": [
    "### 5.1 ROC Curve - AUC"
   ]
  },
  {
   "cell_type": "code",
   "execution_count": 103,
   "metadata": {},
   "outputs": [
    {
     "data": {
      "text/plain": [
       "{'Logistic Regression': 0.591,\n",
       " 'Decision Tree': 0.576,\n",
       " 'Random Forest': 0.63,\n",
       " 'Support Vector Machine': 0.606}"
      ]
     },
     "execution_count": 103,
     "metadata": {},
     "output_type": "execute_result"
    }
   ],
   "source": [
    "max_model_auc_scores"
   ]
  },
  {
   "cell_type": "code",
   "execution_count": 106,
   "metadata": {
    "scrolled": true
   },
   "outputs": [
    {
     "data": {
      "image/png": "[encoded data removed]",
      "text/plain": [
       "<Figure size 1080x360 with 1 Axes>"
      ]
     },
     "metadata": {
      "needs_background": "light"
     },
     "output_type": "display_data"
    }
   ],
   "source": [
    "# plotting ROC curve for tested models\n",
    "\n",
    "# as a different function was used to calculate AUC for the plot, the numbers deviate. However, the result is the same:\n",
    "# Random forest is the best model to fit the data\n",
    "\n",
    "plt.rcParams[\"figure.figsize\"] = (15,5)\n",
    "plt.title('Receiver Operating Characteristic for classification models tested')\n",
    "plt.plot(max_fpr[\"Logistic Regression\"], max_tpr[\"Logistic Regression\"], 'b', label = 'AUC LR = %0.2f' % max_roc_auc[\"Logistic Regression\"])\n",
    "plt.plot(max_fpr[\"Decision Tree\"], max_tpr[\"Decision Tree\"], 'g', label = 'AUC DT = %0.2f' % max_roc_auc[\"Decision Tree\"])\n",
    "plt.plot(max_fpr[\"Random Forest\"], max_tpr[\"Random Forest\"], 'r', label = 'AUC RF = %0.2f' % max_roc_auc[\"Random Forest\"])\n",
    "plt.plot(max_fpr[\"Support Vector Machine\"], max_tpr[\"Support Vector Machine\"], 'y', label = 'AUC SVM = %0.2f' % max_roc_auc[\"Support Vector Machine\"])\n",
    "plt.legend(loc = 'lower right')\n",
    "plt.plot([0, 1], [0, 1],'r--')\n",
    "plt.xlim([0, 1])\n",
    "plt.ylim([0, 1])\n",
    "plt.ylabel('True Positive Rate')\n",
    "plt.xlabel('False Positive Rate')\n",
    "plt.show()"
   ]
  },
  {
   "cell_type": "markdown",
   "metadata": {},
   "source": [
    "Support Vector Machine produces the best predictions, so it should be used for creating the prediction"
   ]
  },
  {
   "cell_type": "markdown",
   "metadata": {},
   "source": [
    "### 5.2 Create predictions for unkown dataset"
   ]
  },
  {
   "cell_type": "markdown",
   "metadata": {},
   "source": [
    "#### Import unknown dataset & prepare data"
   ]
  },
  {
   "cell_type": "code",
   "execution_count": 107,
   "metadata": {},
   "outputs": [],
   "source": [
    "df_unknown = pd.read_csv(\"BADS_WS2021_unknown.csv\", index_col = 'order_item_id')"
   ]
  },
  {
   "cell_type": "code",
   "execution_count": 109,
   "metadata": {},
   "outputs": [],
   "source": [
    "# 1 Convert data types\n",
    "df_unknown[\"order_date\"] = df_unknown[\"order_date\"].astype(\"datetime64\")\n",
    "df_unknown[\"delivery_date\"] = df_unknown[\"delivery_date\"].astype(\"datetime64\")\n",
    "df_unknown[\"item_id\"] = df_unknown[\"item_id\"].astype(\"object\")\n",
    "df_unknown[\"brand_id\"] = df_unknown[\"brand_id\"].astype(\"object\")\n",
    "df_unknown[\"user_id\"] = df_unknown[\"user_id\"].astype(\"object\")\n",
    "df_unknown[\"user_dob\"] = df_unknown[\"user_dob\"].astype(\"datetime64\")\n",
    "df_unknown[\"user_reg_date\"] = df_unknown[\"user_reg_date\"].astype(\"datetime64\")"
   ]
  },
  {
   "cell_type": "code",
   "execution_count": 111,
   "metadata": {},
   "outputs": [],
   "source": [
    "# 2 Nulls\n",
    "delivery_date_mean = df_unknown.delivery_date.mean()\n",
    "user_dob_mean = df_unknown.user_dob.mean()\n",
    "df_unknown.delivery_date.fillna(delivery_date_mean, inplace = True)\n",
    "df_unknown.user_dob.fillna(user_dob_mean, inplace = True)"
   ]
  },
  {
   "cell_type": "code",
   "execution_count": 112,
   "metadata": {
    "collapsed": true
   },
   "outputs": [
    {
     "name": "stdout",
     "output_type": "stream",
     "text": [
      "order_item_id\n",
      "100001    1484006400000000000\n",
      "100002    1484006400000000000\n",
      "100003    1484006400000000000\n",
      "100004    1484006400000000000\n",
      "100005    1484006400000000000\n",
      "                 ...         \n",
      "149996    1481587200000000000\n",
      "149997    1481587200000000000\n",
      "149998    1481587200000000000\n",
      "149999    1481587200000000000\n",
      "150000    1481587200000000000\n",
      "Name: delivery_date, Length: 50000, dtype: int64\n",
      "\n",
      "\n",
      "order_item_id\n",
      "100001    -72230400000000000\n",
      "100002    -72230400000000000\n",
      "100003    -72230400000000000\n",
      "100004    -72230400000000000\n",
      "100005    -72230400000000000\n",
      "                 ...        \n",
      "149996   -178775593539327808\n",
      "149997   -178775593539327808\n",
      "149998   -178775593539327808\n",
      "149999   -178775593539327808\n",
      "150000    -68947200000000000\n",
      "Name: user_dob, Length: 50000, dtype: int64\n",
      "\n",
      "\n",
      "order_item_id\n",
      "100001    1476489600000000000\n",
      "100002    1476489600000000000\n",
      "100003    1476489600000000000\n",
      "100004    1476489600000000000\n",
      "100005    1476489600000000000\n",
      "                 ...         \n",
      "149996    1481500800000000000\n",
      "149997    1481500800000000000\n",
      "149998    1481500800000000000\n",
      "149999    1481500800000000000\n",
      "150000    1481500800000000000\n",
      "Name: order_date, Length: 50000, dtype: int64\n",
      "order_date       2016-12-12 00:00:00\n",
      "delivery_date    2017-01-24 12:00:00\n",
      "item_id                         2333\n",
      "item_size                       xxxl\n",
      "item_color                    yellow\n",
      "brand_id                         140\n",
      "item_price                    399.95\n",
      "user_id                        65149\n",
      "user_title              not reported\n",
      "user_dob         1983-07-20 12:00:00\n",
      "user_state                 Thuringia\n",
      "user_reg_date    2016-12-13 00:00:00\n",
      "dtype: object\n",
      "\n",
      "order_date       2016-10-15 00:00:00\n",
      "delivery_date    2016-08-29 12:00:00\n",
      "item_id                            1\n",
      "item_size                          1\n",
      "item_color                         ?\n",
      "brand_id                           1\n",
      "item_price                         0\n",
      "user_id                           15\n",
      "user_title                   Company\n",
      "user_dob         1946-02-16 12:00:00\n",
      "user_state        Baden-Wuerttemberg\n",
      "user_reg_date    2015-02-17 00:00:00\n",
      "dtype: object\n"
     ]
    }
   ],
   "source": [
    "# 3 Outliers\n",
    "delivery_date_new = outlier_truncation(df_unknown.delivery_date.astype(np.int64)) # convert to int to make function possible to use\n",
    "user_dob_new = outlier_truncation(df_unknown.user_dob.astype(np.int64)) # convert to int to make function possible to use\n",
    "order_date_new = outlier_truncation(df_unknown.order_date.astype(np.int64))\n",
    "\n",
    "print(delivery_date_new)\n",
    "print(\"\\n\")\n",
    "print(user_dob_new)\n",
    "print(\"\\n\")\n",
    "print(order_date_new)\n",
    "\n",
    "# assigning the new columns back to the dataframe\n",
    "df_unknown[\"delivery_date\"] = delivery_date_new.astype(\"datetime64[ns]\")\n",
    "df_unknown[\"user_dob\"] = user_dob_new.astype(\"datetime64[ns]\")\n",
    "df_unknown[\"order_date\"] = order_date_new.astype(\"datetime64[ns]\")"
   ]
  },
  {
   "cell_type": "code",
   "execution_count": 113,
   "metadata": {},
   "outputs": [
    {
     "name": "stdout",
     "output_type": "stream",
     "text": [
      "['l' 'm' 's' 'xl' 'xs']\n"
     ]
    },
    {
     "data": {
      "text/plain": [
       "order_item_id\n",
       "100001    NaN\n",
       "100002    NaN\n",
       "100003    NaN\n",
       "100004    NaN\n",
       "100005    NaN\n",
       "         ... \n",
       "149996    NaN\n",
       "149997    NaN\n",
       "149998    NaN\n",
       "149999    NaN\n",
       "150000    NaN\n",
       "Name: item_size, Length: 50000, dtype: object"
      ]
     },
     "execution_count": 113,
     "metadata": {},
     "output_type": "execute_result"
    }
   ],
   "source": [
    "# 4 Recategorize\n",
    "\n",
    "# recategorize xxl and xxxl into xl\n",
    "item_size = item_size.replace([\"xxl\", \"xxxl\"], \"xl\", inplace = False)\n",
    "\n",
    "# all other numerical sizes into this categories\n",
    "item_size = item_size.replace([\"1\", \"1+\", \"2\", \"2+\", \"3\", \"3+\"], \"xs\", inplace = False)\n",
    "item_size = item_size.replace([\"4\", \"4+\", \"5\", \"5+\", \"6\", \"6+\"], \"s\", inplace = False)\n",
    "item_size = item_size.replace([\"7\", \"7+\", \"8\", \"8+\", \"9\", \"9+\"], \"m\", inplace = False)\n",
    "item_size = item_size.replace([\"10\", \"10+\", \"11\", \"11+\"], \"l\", inplace = False)\n",
    "item_size = item_size.replace([\"12\", \"12+\", \"13\", \"14\"], \"xl\", inplace = False)\n",
    "\n",
    "item_size = item_size.replace([\"100\", \"104\"], \"xs\", inplace = False)\n",
    "item_size = item_size.replace([\"105\", \"116\"], \"s\", inplace = False)\n",
    "item_size = item_size.replace([\"128\", \"140\"], \"m\", inplace = False)\n",
    "item_size = item_size.replace([\"152\", \"164\"], \"l\", inplace = False)\n",
    "item_size = item_size.replace([\"176\"], \"xl\", inplace = False)\n",
    "\n",
    "item_size = item_size.replace([\"18\", \"19\", \"20\", \"21\", \"22\", \"23\"], \"xs\", inplace = False)\n",
    "item_size = item_size.replace([\"24\", \"25\", \"26\", \"27\", \"28\", \"29\"], \"s\", inplace = False)\n",
    "item_size = item_size.replace([\"30\", \"31\", \"32\", \"33\", \"34\", \"35\", \"36\", \"36+\", \"37\", \"37+\", \"38\", \"38+\", \"39\", \"39+\"], \"m\", inplace = False)\n",
    "item_size = item_size.replace([\"40\", \"40+\", \"41\", \"41+\", \"42\", \"42+\", \"43\", \"43+\", \"44\", \"44+\", \"45\", \"45+\"], \"l\", inplace = False)\n",
    "item_size = item_size.replace([\"46\", \"46+\", \"47\", \"48\", '49', '50', '52', '54', '56', \"58\", \"80\", \"84\", \"90\"], \"xl\", inplace = False)\n",
    "\n",
    "item_size = item_size.replace(['3132', '3332'], \"xs\", inplace = False)\n",
    "item_size = item_size.replace(['3432', '3632'], \"s\", inplace = False)\n",
    "item_size = item_size.replace(['3634', '3832'], \"m\", inplace = False)\n",
    "item_size = item_size.replace(['3834'], \"l\", inplace = False)\n",
    "item_size = item_size.replace(['4032', '4034'], \"xl\", inplace = False)\n",
    "\n",
    "# we treat \"unsized\" as null and replace with mode value:\n",
    "item_size = item_size.replace([\"unsized\"], item_size.mode(), inplace = False)\n",
    "\n",
    "print(np.sort(item_size.unique()))\n",
    "\n",
    "df_unknown[\"item_size\"] = item_size"
   ]
  },
  {
   "cell_type": "code",
   "execution_count": 114,
   "metadata": {},
   "outputs": [],
   "source": [
    "# 5 Feature Creation\n",
    "delivery_duration = df_unknown[\"delivery_date\"] - df_unknown[\"order_date\"]\n",
    "delivery_duration = delivery_duration.astype(\"int64\")\n",
    "delivery_duration\n",
    "\n",
    "delivery_duration = outlier_truncation(delivery_duration.astype(\"int64\"))\n",
    "delivery_duration\n",
    "\n",
    "delivery_duration = np.where(delivery_duration <= 0, 0, delivery_duration) # assign 0 temporarily to neg values\n",
    "\n",
    "# assign from variable to dataframe column\n",
    "df_unknown[\"delivery_duration\"] = delivery_duration \n",
    "\n",
    "# convert to int with number of days\n",
    "df_unknown[\"delivery_duration\"] = df_unknown[\"delivery_duration\"].astype(\"timedelta64[ns]\").dt.days\n",
    "\n",
    "from datetime import date\n",
    "today = date.today()\n",
    "today\n",
    "\n",
    "df_unknown['user_dob'] = df_unknown['user_dob'] - pd.DateOffset(years=100)\n",
    "\n",
    "df_unknown['user_dob']\n",
    "\n",
    "user_age = pd.Timestamp.now() - df_unknown[\"user_dob\"]\n",
    "user_age\n",
    "\n",
    "# assign to dataframe\n",
    "df_unknown[\"user_age\"] = user_age"
   ]
  },
  {
   "cell_type": "code",
   "execution_count": 115,
   "metadata": {},
   "outputs": [],
   "source": [
    "# 6 Feat normalisation\n",
    "\n",
    "# convert to numpy array in order to normalize\n",
    "order_date = df_unknown[\"order_date\"].to_numpy().reshape(-1,1)\n",
    "delivery_date = df_unknown[\"delivery_date\"].to_numpy().reshape(-1,1)\n",
    "item_price = df_unknown[\"item_price\"].to_numpy().reshape(-1,1)\n",
    "user_dob = df_unknown[\"user_dob\"].to_numpy().reshape(-1,1)\n",
    "user_reg_date = df_unknown[\"user_reg_date\"].to_numpy().reshape(-1,1)\n",
    "delivery_duration = df_unknown[\"delivery_duration\"].to_numpy().reshape(-1,1)\n",
    "user_age = df_unknown[\"user_age\"].to_numpy().reshape(-1,1)\n",
    "# create a blank dict to enter the scaler objects\n",
    "scalers = {}\n",
    "\n",
    "scalers[\"order_date\"], order_date = normalize(order_date)\n",
    "scalers[\"delivery_date\"], delivery_date = normalize(delivery_date)\n",
    "scalers[\"item_price\"], item_price = normalize(item_price)\n",
    "scalers[\"user_dob\"], user_dob = normalize(user_dob)\n",
    "scalers[\"user_reg_date\"], user_reg_date = normalize(user_reg_date)\n",
    "scalers[\"delivery_duration\"], delivery_duration = normalize(delivery_duration)\n",
    "scalers[\"user_age\"], user_age = normalize(user_age)\n",
    "# assign the normalized columns to new columns in the dataset\n",
    "df_unknown[\"order_date_norm\"] = order_date\n",
    "df_unknown[\"delivery_date_norm\"] = delivery_date\n",
    "df_unknown[\"item_price_norm\"] = item_price\n",
    "df_unknown[\"user_dob_norm\"] = user_dob\n",
    "df_unknown[\"user_reg_date_norm\"] = user_reg_date\n",
    "df_unknown[\"delivery_duration_norm\"] = delivery_duration\n",
    "df_unknown[\"user_age_norm\"] = user_age\n"
   ]
  },
  {
   "cell_type": "markdown",
   "metadata": {},
   "source": [
    "As it is already shown that best fit for random forest comes from using only the normalised features, it is not necessary to encode the categorical features for the unknown dataset."
   ]
  },
  {
   "cell_type": "markdown",
   "metadata": {},
   "source": [
    "## Merge known and unknown"
   ]
  },
  {
   "cell_type": "code",
   "execution_count": 124,
   "metadata": {},
   "outputs": [],
   "source": [
    "# Creating the random forest classification for unknown dataset with optimal parameters:\n",
    "# n_estimators = 100, use normalised columns only\n",
    "model = RandomForestClassifier(n_estimators=100)"
   ]
  },
  {
   "cell_type": "code",
   "execution_count": 125,
   "metadata": {},
   "outputs": [],
   "source": [
    "X = df_known_3[norm_columns]\n",
    "y = df_known_3[\"return\"]"
   ]
  },
  {
   "cell_type": "code",
   "execution_count": 126,
   "metadata": {},
   "outputs": [
    {
     "data": {
      "text/plain": [
       "RandomForestClassifier(bootstrap=True, class_weight=None, criterion='gini',\n",
       "                       max_depth=None, max_features='auto', max_leaf_nodes=None,\n",
       "                       min_impurity_decrease=0.0, min_impurity_split=None,\n",
       "                       min_samples_leaf=1, min_samples_split=2,\n",
       "                       min_weight_fraction_leaf=0.0, n_estimators=100,\n",
       "                       n_jobs=None, oob_score=False, random_state=None,\n",
       "                       verbose=0, warm_start=False)"
      ]
     },
     "execution_count": 126,
     "metadata": {},
     "output_type": "execute_result"
    }
   ],
   "source": [
    "# Fit whole known data\n",
    "model.fit(X, y)"
   ]
  },
  {
   "cell_type": "code",
   "execution_count": 127,
   "metadata": {},
   "outputs": [
    {
     "data": {
      "text/html": [
       "<div>\n",
       "<style scoped>\n",
       "    .dataframe tbody tr th:only-of-type {\n",
       "        vertical-align: middle;\n",
       "    }\n",
       "\n",
       "    .dataframe tbody tr th {\n",
       "        vertical-align: top;\n",
       "    }\n",
       "\n",
       "    .dataframe thead th {\n",
       "        text-align: right;\n",
       "    }\n",
       "</style>\n",
       "<table border=\"1\" class=\"dataframe\">\n",
       "  <thead>\n",
       "    <tr style=\"text-align: right;\">\n",
       "      <th></th>\n",
       "      <th>order_date_norm</th>\n",
       "      <th>delivery_date_norm</th>\n",
       "      <th>item_price_norm</th>\n",
       "      <th>user_dob_norm</th>\n",
       "      <th>user_reg_date_norm</th>\n",
       "      <th>delivery_duration_norm</th>\n",
       "    </tr>\n",
       "    <tr>\n",
       "      <th>order_item_id</th>\n",
       "      <th></th>\n",
       "      <th></th>\n",
       "      <th></th>\n",
       "      <th></th>\n",
       "      <th></th>\n",
       "      <th></th>\n",
       "    </tr>\n",
       "  </thead>\n",
       "  <tbody>\n",
       "    <tr>\n",
       "      <td>100001</td>\n",
       "      <td>0.0</td>\n",
       "      <td>0.902027</td>\n",
       "      <td>0.174772</td>\n",
       "      <td>0.576785</td>\n",
       "      <td>0.912782</td>\n",
       "      <td>1.000000</td>\n",
       "    </tr>\n",
       "    <tr>\n",
       "      <td>100002</td>\n",
       "      <td>0.0</td>\n",
       "      <td>0.902027</td>\n",
       "      <td>0.174772</td>\n",
       "      <td>0.576785</td>\n",
       "      <td>0.912782</td>\n",
       "      <td>1.000000</td>\n",
       "    </tr>\n",
       "    <tr>\n",
       "      <td>100003</td>\n",
       "      <td>0.0</td>\n",
       "      <td>0.902027</td>\n",
       "      <td>0.174772</td>\n",
       "      <td>0.576785</td>\n",
       "      <td>0.912782</td>\n",
       "      <td>1.000000</td>\n",
       "    </tr>\n",
       "    <tr>\n",
       "      <td>100004</td>\n",
       "      <td>0.0</td>\n",
       "      <td>0.902027</td>\n",
       "      <td>0.124766</td>\n",
       "      <td>0.576785</td>\n",
       "      <td>0.912782</td>\n",
       "      <td>1.000000</td>\n",
       "    </tr>\n",
       "    <tr>\n",
       "      <td>100005</td>\n",
       "      <td>0.0</td>\n",
       "      <td>0.902027</td>\n",
       "      <td>0.149769</td>\n",
       "      <td>0.576785</td>\n",
       "      <td>0.912782</td>\n",
       "      <td>1.000000</td>\n",
       "    </tr>\n",
       "    <tr>\n",
       "      <td>...</td>\n",
       "      <td>...</td>\n",
       "      <td>...</td>\n",
       "      <td>...</td>\n",
       "      <td>...</td>\n",
       "      <td>...</td>\n",
       "      <td>...</td>\n",
       "    </tr>\n",
       "    <tr>\n",
       "      <td>149996</td>\n",
       "      <td>1.0</td>\n",
       "      <td>0.712838</td>\n",
       "      <td>0.224778</td>\n",
       "      <td>0.486563</td>\n",
       "      <td>0.000000</td>\n",
       "      <td>0.090909</td>\n",
       "    </tr>\n",
       "    <tr>\n",
       "      <td>149997</td>\n",
       "      <td>1.0</td>\n",
       "      <td>0.712838</td>\n",
       "      <td>0.042255</td>\n",
       "      <td>0.486563</td>\n",
       "      <td>0.000000</td>\n",
       "      <td>0.090909</td>\n",
       "    </tr>\n",
       "    <tr>\n",
       "      <td>149998</td>\n",
       "      <td>1.0</td>\n",
       "      <td>0.712838</td>\n",
       "      <td>0.199775</td>\n",
       "      <td>0.486563</td>\n",
       "      <td>0.000000</td>\n",
       "      <td>0.090909</td>\n",
       "    </tr>\n",
       "    <tr>\n",
       "      <td>149999</td>\n",
       "      <td>1.0</td>\n",
       "      <td>0.712838</td>\n",
       "      <td>0.042255</td>\n",
       "      <td>0.486563</td>\n",
       "      <td>0.000000</td>\n",
       "      <td>0.090909</td>\n",
       "    </tr>\n",
       "    <tr>\n",
       "      <td>150000</td>\n",
       "      <td>1.0</td>\n",
       "      <td>0.712838</td>\n",
       "      <td>0.199775</td>\n",
       "      <td>0.579565</td>\n",
       "      <td>0.000000</td>\n",
       "      <td>0.090909</td>\n",
       "    </tr>\n",
       "  </tbody>\n",
       "</table>\n",
       "<p>50000 rows × 6 columns</p>\n",
       "</div>"
      ],
      "text/plain": [
       "               order_date_norm  delivery_date_norm  item_price_norm  \\\n",
       "order_item_id                                                         \n",
       "100001                     0.0            0.902027         0.174772   \n",
       "100002                     0.0            0.902027         0.174772   \n",
       "100003                     0.0            0.902027         0.174772   \n",
       "100004                     0.0            0.902027         0.124766   \n",
       "100005                     0.0            0.902027         0.149769   \n",
       "...                        ...                 ...              ...   \n",
       "149996                     1.0            0.712838         0.224778   \n",
       "149997                     1.0            0.712838         0.042255   \n",
       "149998                     1.0            0.712838         0.199775   \n",
       "149999                     1.0            0.712838         0.042255   \n",
       "150000                     1.0            0.712838         0.199775   \n",
       "\n",
       "               user_dob_norm  user_reg_date_norm  delivery_duration_norm  \n",
       "order_item_id                                                             \n",
       "100001              0.576785            0.912782                1.000000  \n",
       "100002              0.576785            0.912782                1.000000  \n",
       "100003              0.576785            0.912782                1.000000  \n",
       "100004              0.576785            0.912782                1.000000  \n",
       "100005              0.576785            0.912782                1.000000  \n",
       "...                      ...                 ...                     ...  \n",
       "149996              0.486563            0.000000                0.090909  \n",
       "149997              0.486563            0.000000                0.090909  \n",
       "149998              0.486563            0.000000                0.090909  \n",
       "149999              0.486563            0.000000                0.090909  \n",
       "150000              0.579565            0.000000                0.090909  \n",
       "\n",
       "[50000 rows x 6 columns]"
      ]
     },
     "execution_count": 127,
     "metadata": {},
     "output_type": "execute_result"
    }
   ],
   "source": [
    "X_unknown = df_unknown[norm_columns]\n",
    "X_unknown"
   ]
  },
  {
   "cell_type": "code",
   "execution_count": 128,
   "metadata": {},
   "outputs": [
    {
     "data": {
      "text/plain": [
       "array([1, 1, 1, ..., 0, 0, 0], dtype=int64)"
      ]
     },
     "execution_count": 128,
     "metadata": {},
     "output_type": "execute_result"
    }
   ],
   "source": [
    "model.predict(X_unknown)"
   ]
  },
  {
   "cell_type": "code",
   "execution_count": 131,
   "metadata": {},
   "outputs": [],
   "source": [
    "y_unknown = model.predict(X_unknown)"
   ]
  },
  {
   "cell_type": "code",
   "execution_count": 133,
   "metadata": {},
   "outputs": [
    {
     "data": {
      "text/html": [
       "<div>\n",
       "<style scoped>\n",
       "    .dataframe tbody tr th:only-of-type {\n",
       "        vertical-align: middle;\n",
       "    }\n",
       "\n",
       "    .dataframe tbody tr th {\n",
       "        vertical-align: top;\n",
       "    }\n",
       "\n",
       "    .dataframe thead th {\n",
       "        text-align: right;\n",
       "    }\n",
       "</style>\n",
       "<table border=\"1\" class=\"dataframe\">\n",
       "  <thead>\n",
       "    <tr style=\"text-align: right;\">\n",
       "      <th></th>\n",
       "      <th>order_item_id</th>\n",
       "      <th>return</th>\n",
       "    </tr>\n",
       "  </thead>\n",
       "  <tbody>\n",
       "    <tr>\n",
       "      <td>0</td>\n",
       "      <td>100001</td>\n",
       "      <td>1</td>\n",
       "    </tr>\n",
       "    <tr>\n",
       "      <td>1</td>\n",
       "      <td>100002</td>\n",
       "      <td>1</td>\n",
       "    </tr>\n",
       "    <tr>\n",
       "      <td>2</td>\n",
       "      <td>100003</td>\n",
       "      <td>1</td>\n",
       "    </tr>\n",
       "    <tr>\n",
       "      <td>3</td>\n",
       "      <td>100004</td>\n",
       "      <td>0</td>\n",
       "    </tr>\n",
       "    <tr>\n",
       "      <td>4</td>\n",
       "      <td>100005</td>\n",
       "      <td>1</td>\n",
       "    </tr>\n",
       "    <tr>\n",
       "      <td>...</td>\n",
       "      <td>...</td>\n",
       "      <td>...</td>\n",
       "    </tr>\n",
       "    <tr>\n",
       "      <td>49995</td>\n",
       "      <td>149996</td>\n",
       "      <td>1</td>\n",
       "    </tr>\n",
       "    <tr>\n",
       "      <td>49996</td>\n",
       "      <td>149997</td>\n",
       "      <td>0</td>\n",
       "    </tr>\n",
       "    <tr>\n",
       "      <td>49997</td>\n",
       "      <td>149998</td>\n",
       "      <td>0</td>\n",
       "    </tr>\n",
       "    <tr>\n",
       "      <td>49998</td>\n",
       "      <td>149999</td>\n",
       "      <td>0</td>\n",
       "    </tr>\n",
       "    <tr>\n",
       "      <td>49999</td>\n",
       "      <td>150000</td>\n",
       "      <td>0</td>\n",
       "    </tr>\n",
       "  </tbody>\n",
       "</table>\n",
       "<p>50000 rows × 2 columns</p>\n",
       "</div>"
      ],
      "text/plain": [
       "       order_item_id  return\n",
       "0             100001       1\n",
       "1             100002       1\n",
       "2             100003       1\n",
       "3             100004       0\n",
       "4             100005       1\n",
       "...              ...     ...\n",
       "49995         149996       1\n",
       "49996         149997       0\n",
       "49997         149998       0\n",
       "49998         149999       0\n",
       "49999         150000       0\n",
       "\n",
       "[50000 rows x 2 columns]"
      ]
     },
     "execution_count": 133,
     "metadata": {},
     "output_type": "execute_result"
    }
   ],
   "source": [
    "df_predictions= pd.DataFrame(y_unknown, columns = [\"return\"])\n",
    "df_predictions[\"order_item_id\"] = df_unknown.index\n",
    "columns_titles = [\"order_item_id\",\"return\"]\n",
    "df_predictions = df_predictions.reindex(columns=columns_titles)\n",
    "\n",
    "df_predictions"
   ]
  },
  {
   "cell_type": "markdown",
   "metadata": {},
   "source": [
    "### 5.3 Create output file"
   ]
  },
  {
   "cell_type": "code",
   "execution_count": 134,
   "metadata": {},
   "outputs": [],
   "source": [
    "df_predictions.to_csv(\"616912.csv\", sep=\",\", columns = [\"order_item_id\", \"return\"], mode = \"w\", index = False)"
   ]
  },
  {
   "cell_type": "markdown",
   "metadata": {},
   "source": [
    "---"
   ]
  },
  {
   "cell_type": "markdown",
   "metadata": {},
   "source": [
    "## 6. Conclusion"
   ]
  },
  {
   "cell_type": "markdown",
   "metadata": {},
   "source": [
    "For this reason, for this classification problem the best results were returned with the random forests model, among other reasons because the results are uncorrelated (Yiu, 2019). Based on the random forest model the predictions were made. By creating accurate predictions of whether an order is returned or not the expected costs from returned are minimised, as the cases of false negatives and true positives are minimized, thus reducing the costs associated with those classes. Scaling this kind of modelling and predictions can save significant amounts to e-commerce shops, especially ones that handle thousands or millions of orders per day."
   ]
  },
  {
   "cell_type": "markdown",
   "metadata": {},
   "source": [
    "## References"
   ]
  },
  {
   "cell_type": "markdown",
   "metadata": {},
   "source": [
    "Kumar S., 2020. 7 Ways to Handle Missing Values in Machine Learning\n",
    "\n",
    "https://towardsdatascience.com/7-ways-to-handle-missing-values-in-machine-learning-1a6326adf79e  [accessed 30th of April 2021]"
   ]
  },
  {
   "cell_type": "markdown",
   "metadata": {},
   "source": [
    "Yiu T., 2019. Understanding Random Forest [Online]:\n",
    "\n",
    "https://towardsdatascience.com/understanding-random-forest-58381e0602d2 [accessed 30th of April 2021]"
   ]
  }
 ],
 "metadata": {
  "kernelspec": {
   "display_name": "Python 3 (ipykernel)",
   "language": "python",
   "name": "python3"
  },
  "language_info": {
   "codemirror_mode": {
    "name": "ipython",
    "version": 3
   },
   "file_extension": ".py",
   "mimetype": "text/x-python",
   "name": "python",
   "nbconvert_exporter": "python",
   "pygments_lexer": "ipython3",
   "version": "3.8.12"
  }
 },
 "nbformat": 4,
 "nbformat_minor": 2
}
